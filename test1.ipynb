{
 "cells": [
  {
   "cell_type": "markdown",
   "metadata": {},
   "source": [
    "# Setup"
   ]
  },
  {
   "cell_type": "code",
   "execution_count": null,
   "metadata": {},
   "outputs": [],
   "source": [
    "# %pip install -r requirements.txt"
   ]
  },
  {
   "cell_type": "markdown",
   "metadata": {},
   "source": [
    "# Environment Variables"
   ]
  },
  {
   "cell_type": "code",
   "execution_count": null,
   "metadata": {},
   "outputs": [],
   "source": [
    "# Get environment variables\n",
    "\n",
    "from dotenv import load_dotenv\n",
    "\n",
    "# Load environment variables from .env file\n",
    "load_dotenv()"
   ]
  },
  {
   "cell_type": "markdown",
   "metadata": {},
   "source": [
    "# Utilities"
   ]
  },
  {
   "cell_type": "code",
   "execution_count": null,
   "metadata": {},
   "outputs": [
    {
     "ename": "ModuleNotFoundError",
     "evalue": "No module named 'david'",
     "output_type": "error",
     "traceback": [
      "\u001b[0;31m---------------------------------------------------------------------------\u001b[0m",
      "\u001b[0;31mModuleNotFoundError\u001b[0m                       Traceback (most recent call last)",
      "Cell \u001b[0;32mIn[7], line 3\u001b[0m\n\u001b[1;32m      1\u001b[0m \u001b[38;5;66;03m# Import the utils module\u001b[39;00m\n\u001b[0;32m----> 3\u001b[0m \u001b[38;5;28;01mfrom\u001b[39;00m\u001b[38;5;250m \u001b[39m\u001b[38;5;21;01mdavid\u001b[39;00m\u001b[38;5;21;01m.\u001b[39;00m\u001b[38;5;21;01mutils\u001b[39;00m\u001b[38;5;250m \u001b[39m\u001b[38;5;28;01mimport\u001b[39;00m chunk_docs_semantic\n",
      "\u001b[0;31mModuleNotFoundError\u001b[0m: No module named 'david'"
     ]
    }
   ],
   "source": [
    "# Import the utils module\n",
    "\n",
    "from utils import chunk_docs_semantic"
   ]
  },
  {
   "cell_type": "code",
   "execution_count": 8,
   "metadata": {},
   "outputs": [
    {
     "name": "stdout",
     "output_type": "stream",
     "text": [
      "['/opt/anaconda3/envs/era4/lib/python312.zip', '/opt/anaconda3/envs/era4/lib/python3.12', '/opt/anaconda3/envs/era4/lib/python3.12/lib-dynload', '', '/opt/anaconda3/envs/era4/lib/python3.12/site-packages']\n"
     ]
    }
   ],
   "source": [
    "import sys\n",
    "print(sys.path)"
   ]
  },
  {
   "cell_type": "markdown",
   "metadata": {},
   "source": [
    "# Pre-Processing"
   ]
  },
  {
   "cell_type": "code",
   "execution_count": null,
   "metadata": {},
   "outputs": [],
   "source": [
    "# Get the docs\n",
    "docs = process_directory(path=\"docs/10k/html\", glob=\"**/*.html\")\n",
    "print(f\"\\nNumber of docs = {len(docs)}\")\n",
    "\n",
    "# Chunk the docs\n",
    "chunks = chunk_docs_recursive(docs=docs)\n",
    "print(f\"\\nNumber of chunks = {len(chunks)}\")"
   ]
  },
  {
   "cell_type": "code",
   "execution_count": null,
   "metadata": {},
   "outputs": [],
   "source": [
    "# Create embeddings\n",
    "embeddings = create_embeddings_openai()\n",
    "\n",
    "# Create a vector store\n",
    "vector_store = create_vector_store_qdrant(location=':memory:', collection_name='test-1a', vector_size=1536, embeddings=embeddings, docs=chunks)\n",
    "print(f\"\\nCreated a vector store\")\n",
    "\n",
    "# Create a retriever\n",
    "retriever = create_retriever_qdrant(vector_store)\n",
    "print(f\"\\nCreated a retriever\")\n",
    "\n",
    "# Create the prompt templage\n",
    "chat_prompt_template = create_chat_prompt_template()\n",
    "print(f\"\\nCreated a prompt template\")"
   ]
  },
  {
   "cell_type": "markdown",
   "metadata": {},
   "source": [
    "# Test 1a - OpenAI and Qdrant with Recursive Chunking"
   ]
  },
  {
   "cell_type": "code",
   "execution_count": null,
   "metadata": {},
   "outputs": [],
   "source": [
    "# Create the chain using naive retrieval\n",
    "def run_test_1a():\n",
    "\tchain = create_chain_openai(model='gpt-4o', prompt_template=chat_prompt_template, retriever=retriever)\n",
    "\tprint(f\"\\nCreated a chain\")"
   ]
  },
  {
   "cell_type": "markdown",
   "metadata": {},
   "source": [
    "# Test 1b - OpenAI and QDrant using Cohere"
   ]
  },
  {
   "cell_type": "code",
   "execution_count": null,
   "metadata": {},
   "outputs": [],
   "source": [
    "# Create the chain using Cohere contextual compression\n",
    "chain = create_chain_openai(model='gpt-4o', prompt_template=chat_prompt_template, retriever=retriever, use_cohere=True)\n",
    "print(f\"\\nCreated a chain\")"
   ]
  },
  {
   "cell_type": "markdown",
   "metadata": {},
   "source": [
    "# Post-Processing"
   ]
  },
  {
   "cell_type": "code",
   "execution_count": null,
   "metadata": {},
   "outputs": [],
   "source": [
    "# Test the chain with a few questions \n",
    "questions = [\n",
    "\t\"What is the annual revenue of Uber?\",\n",
    "\t\"What is the annual revenue of Lyft?\",\n",
    "\t\"How does Uber's revenue compare to Lyft's revenue?\",\n",
    "\t\"Summarize Lyft's risk factors\",\n",
    "\t]\n",
    "\n",
    "for question in questions:\n",
    "\tprint(question)\n",
    "\tresult = chain.invoke({\"question\" : question})\n",
    "\tprint(result)\n",
    "\tprint(result[\"response\"].content)\n",
    "\tprint(\"\\n*****\")"
   ]
  },
  {
   "cell_type": "code",
   "execution_count": null,
   "metadata": {},
   "outputs": [],
   "source": [
    "# Evaluate the chain using Ragas\n",
    "ragas_results, ragas_results_df = run_ragas_evaluation(chain, testset_name=\"testsets/10k_testset.csv\", eval_metrics=[answer_correctness, answer_relevancy, context_precision, context_recall, faithfulness,])\n",
    "    \n",
    "# Write the results to disk\n",
    "ragas_results_df.to_csv(f\"evaluations/10x_test1_testset_evaluation_{get_time_string()}.csv\")\n",
    "\n",
    "# Show the summary resutls\n",
    "print(ragas_results)"
   ]
  },
  {
   "cell_type": "code",
   "execution_count": null,
   "metadata": {},
   "outputs": [],
   "source": [
    "# Build a heatmap showing the Ragas results\n",
    "\n",
    "import seaborn as sns\n",
    "import matplotlib.pyplot as plt\n",
    "from matplotlib.colors import LinearSegmentedColormap\n",
    "\n",
    "heatmap_data = ragas_results_df[\n",
    "\t[\n",
    "\t\t\"answer_correctness\",\n",
    "\t\t\"answer_relevancy\",\n",
    "\t\t\"context_precision\", \n",
    "\t\t\"context_recall\", \n",
    "\t\t\"faithfulness\",]\n",
    "\t]\n",
    "\n",
    "cmap = LinearSegmentedColormap.from_list(\"green_red\", [\"red\", \"green\"])\n",
    "\n",
    "plt.figure(figsize=(10, 8))\n",
    "sns.heatmap(heatmap_data, annot=True, fmt=\".2f\", linewidths=0.5, cmap=cmap)\n",
    "plt.yticks(ticks=range(len(ragas_results_df[\"user_input\"])), labels=ragas_results_df[\"user_input\"].str[:100], rotation=0)\n",
    "plt.show()"
   ]
  }
 ],
 "metadata": {
  "kernelspec": {
   "display_name": "era4",
   "language": "python",
   "name": "python3"
  },
  "language_info": {
   "codemirror_mode": {
    "name": "ipython",
    "version": 3
   },
   "file_extension": ".py",
   "mimetype": "text/x-python",
   "name": "python",
   "nbconvert_exporter": "python",
   "pygments_lexer": "ipython3",
   "version": "3.12.2"
  }
 },
 "nbformat": 4,
 "nbformat_minor": 2
}
