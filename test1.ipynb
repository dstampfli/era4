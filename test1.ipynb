{
 "cells": [
  {
   "cell_type": "markdown",
   "metadata": {},
   "source": [
    "# Setup"
   ]
  },
  {
   "cell_type": "code",
   "execution_count": null,
   "metadata": {},
   "outputs": [],
   "source": [
    "# %pip install -r requirements.txt"
   ]
  },
  {
   "cell_type": "markdown",
   "metadata": {},
   "source": [
    "# Environment Variables"
   ]
  },
  {
   "cell_type": "code",
   "execution_count": null,
   "metadata": {},
   "outputs": [],
   "source": [
    "# Get environment variables\n",
    "\n",
    "from dotenv import load_dotenv\n",
    "\n",
    "# Load environment variables from .env file\n",
    "load_dotenv()"
   ]
  },
  {
   "cell_type": "markdown",
   "metadata": {},
   "source": [
    "# Utilities"
   ]
  },
  {
   "cell_type": "code",
   "execution_count": 11,
   "metadata": {},
   "outputs": [],
   "source": [
    "import utils"
   ]
  },
  {
   "cell_type": "markdown",
   "metadata": {},
   "source": [
    "# Test 1a - OpenAI and Qdrant"
   ]
  },
  {
   "cell_type": "code",
   "execution_count": null,
   "metadata": {},
   "outputs": [],
   "source": [
    "# Build chain using OpenAI and Qdrant\n",
    "\n",
    "embeddings = utils.create_embeddings_openai()\n",
    "\n",
    "docs = utils.process_directory(path=\"docs/10k/html\", \n",
    "\t\t\t\t\t\t  glob=\"**/*.html\", \n",
    "\t\t\t\t\t\t  loader_cls=None, \n",
    "\t\t\t\t\t\t  use_multithreading=True)\n",
    "\n",
    "chunks = utils.chunk_docs_recursive(docs=docs)\n",
    "\n",
    "print(f'\\nNumber of chunks = {len(chunks)}\\n')\n",
    "\n",
    "vector_store = utils.create_qdrant_vector_store(':memory:', \n",
    "                                          'holiday-test', \n",
    "                                          1536, \n",
    "                                          embeddings, \n",
    "                                          chunks)\n",
    "\n",
    "retriever = utils.create_retriever_qdrant(vector_store)\n",
    "\n",
    "chat_prompt_template = utils.create_chat_prompt_template()\n",
    "\n",
    "chain = utils.create_chain('gpt-4o', \n",
    "                     chat_prompt_template, \n",
    "                     retriever)"
   ]
  },
  {
   "cell_type": "code",
   "execution_count": null,
   "metadata": {},
   "outputs": [],
   "source": [
    "# Test the chain with a few questions \n",
    "\n",
    "questions = [\"What is the annual revenue of Uber?\",\n",
    "\"What is the annual revenue of Lyft?\",\n",
    "\"How does Uber's revenue compare to Lyft's revenue?\",]\n",
    "\n",
    "for question in questions:\n",
    "\tprint(question)\n",
    "\tresult = chain.invoke({\"question\" : question})\n",
    "\tprint(result)\n",
    "\tprint(result[\"response\"].content)\n",
    "\tprint(\"\\n*****\")"
   ]
  },
  {
   "cell_type": "code",
   "execution_count": null,
   "metadata": {},
   "outputs": [],
   "source": [
    "# Evaluate the chain using Ragas\n",
    "\n",
    "import time\n",
    "\n",
    "import pandas as pd\n",
    "from ragas.metrics import (\n",
    "    answer_correctness,\n",
    "    answer_relevancy,\n",
    "    context_precision,\n",
    "    context_recall,\n",
    "    faithfulness)\n",
    "\n",
    "# Get the questions and groundtruths from the dataframe\n",
    "testset_df = pd.read_csv(\"testsets/10k_testset.csv\")\n",
    "\n",
    "questions = testset_df[\"user_input\"].values.tolist()\n",
    "questions = [str(question) for question in questions]\n",
    "\n",
    "groundtruths = testset_df[\"reference\"].values.tolist()\n",
    "groundtruths = [str(ground_truth) for ground_truth in groundtruths]\n",
    "\n",
    "eval_metrics = [\n",
    "\tanswer_correctness,\n",
    "\tanswer_relevancy,\n",
    "\tcontext_precision,\n",
    "\tcontext_recall,\n",
    "\tfaithfulness\n",
    "]\n",
    "\n",
    "ragas_results, ragas_results_df = utils.run_ragas_evaluation(chain, \n",
    "\t\t\t\t\t\t\t\t\t\t\t\t\t\tquestions, \n",
    "\t\t\t\t\t\t\t\t\t\t\t\t\t\tgroundtruths, \n",
    "\t\t\t\t\t\t\t\t\t\t\t\t\t\teval_metrics)\n",
    "\n",
    "# Write the results to disk\n",
    "timestr = time.strftime(\"%Y%m%d%H%M%S\")\n",
    "ragas_results_df.to_csv(f\"evaluations/10x_test1_testset_evaluation_{timestr}.csv\")\n",
    "\n",
    "# Show the resutls\n",
    "print(ragas_results)"
   ]
  }
 ],
 "metadata": {
  "kernelspec": {
   "display_name": ".venv",
   "language": "python",
   "name": "python3"
  },
  "language_info": {
   "codemirror_mode": {
    "name": "ipython",
    "version": 3
   },
   "file_extension": ".py",
   "mimetype": "text/x-python",
   "name": "python",
   "nbconvert_exporter": "python",
   "pygments_lexer": "ipython3",
   "version": "3.12.6"
  }
 },
 "nbformat": 4,
 "nbformat_minor": 2
}
