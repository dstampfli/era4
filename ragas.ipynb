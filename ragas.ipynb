{
 "cells": [
  {
   "cell_type": "markdown",
   "metadata": {},
   "source": [
    "More information can be found at the link below\n",
    "https://github.com/explodinggradients/ragas/blob/main/docs/getstarted/rag_testset_generation.md"
   ]
  },
  {
   "cell_type": "markdown",
   "metadata": {},
   "source": [
    "# Setup"
   ]
  },
  {
   "cell_type": "code",
   "execution_count": null,
   "metadata": {},
   "outputs": [],
   "source": [
    "# %pip install -r requirements.txt"
   ]
  },
  {
   "cell_type": "markdown",
   "metadata": {},
   "source": [
    "# Environment Variables"
   ]
  },
  {
   "cell_type": "code",
   "execution_count": 2,
   "metadata": {},
   "outputs": [
    {
     "data": {
      "text/plain": [
       "True"
      ]
     },
     "execution_count": 2,
     "metadata": {},
     "output_type": "execute_result"
    }
   ],
   "source": [
    "# Get environment variables\n",
    "\n",
    "from dotenv import load_dotenv\n",
    "\n",
    "\n",
    "# Load environment variables from .env file\n",
    "load_dotenv()"
   ]
  },
  {
   "cell_type": "markdown",
   "metadata": {},
   "source": [
    "# Sample Docs"
   ]
  },
  {
   "cell_type": "code",
   "execution_count": 5,
   "metadata": {},
   "outputs": [
    {
     "name": "stderr",
     "output_type": "stream",
     "text": [
      "\n",
      "\u001b[Alibmagic is unavailable but assists in filetype detection. Please consider installing libmagic for better results.\n",
      "libmagic is unavailable but assists in filetype detection. Please consider installing libmagic for better results.\n",
      "libmagic is unavailable but assists in filetype detection. Please consider installing libmagic for better results.\n",
      "libmagic is unavailable but assists in filetype detection. Please consider installing libmagic for better results.\n",
      "100%|██████████| 11/11 [01:38<00:00,  8.99s/it]\n",
      "Need to load profiles.\n",
      "Need to load profiles.\n",
      "Need to load profiles.\n",
      "Need to load profiles.\n",
      "Need to load profiles.\n",
      "Need to load profiles.\n",
      "\n",
      "\n",
      "Need to load profiles.\n",
      "  9%|▉         | 1/11 [00:00<00:08,  1.16it/s]Need to load profiles.\u001b[Alibmagic is unavailable but assists in filetype detection. Please consider installing libmagic for better results.\n",
      "\n",
      "\u001b[Alibmagic is unavailable but assists in filetype detection. Please consider installing libmagic for better results.\n",
      "libmagic is unavailable but assists in filetype detection. Please consider installing libmagic for better results.\n",
      "it is not a valid standard language code.\n",
      "libmagic is unavailable but assists in filetype detection. Please consider installing libmagic for better results.\n",
      "libmagic is unavailable but assists in filetype detection. Please consider installing libmagic for better results.\n",
      "\n",
      "\u001b[A\n",
      "\u001b[Alibmagic is unavailable but assists in filetype detection. Please consider installing libmagic for better results.\n",
      "libmagic is unavailable but assists in filetype detection. Please consider installing libmagic for better results.\n",
      "\n",
      "100%|██████████| 11/11 [00:01<00:00,  8.54it/s]\n"
     ]
    }
   ],
   "source": [
    "from langchain_community.document_loaders import DirectoryLoader\n",
    "\n",
    "path = \"docs/sample/\"\n",
    "\n",
    "loader = DirectoryLoader(path, \n",
    "                         glob=\"**/*.md\", \n",
    "                         show_progress=True, \n",
    "                         use_multithreading=True)\n",
    "\n",
    "docs = loader.load()"
   ]
  },
  {
   "cell_type": "code",
   "execution_count": 6,
   "metadata": {},
   "outputs": [],
   "source": [
    "from langchain_openai import ChatOpenAI, OpenAIEmbeddings\n",
    "from ragas.embeddings import LangchainEmbeddingsWrapper\n",
    "from ragas.llms import LangchainLLMWrapper\n",
    "\n",
    "generator_llm = LangchainLLMWrapper(ChatOpenAI(model=\"gpt-4o-mini\"))\n",
    "\n",
    "generator_embeddings = LangchainEmbeddingsWrapper(OpenAIEmbeddings())"
   ]
  },
  {
   "cell_type": "code",
   "execution_count": null,
   "metadata": {},
   "outputs": [
    {
     "data": {
      "application/vnd.jupyter.widget-view+json": {
       "model_id": "49ffb2d7fd524bad856b58caa646084a",
       "version_major": 2,
       "version_minor": 0
      },
      "text/plain": [
       "Applying HeadlinesExtractor:   0%|          | 0/5 [00:00<?, ?it/s]"
      ]
     },
     "metadata": {},
     "output_type": "display_data"
    },
    {
     "data": {
      "application/vnd.jupyter.widget-view+json": {
       "model_id": "523e28805c6446dda386ee7d1a4d6135",
       "version_major": 2,
       "version_minor": 0
      },
      "text/plain": [
       "Applying HeadlineSplitter:   0%|          | 0/11 [00:00<?, ?it/s]"
      ]
     },
     "metadata": {},
     "output_type": "display_data"
    },
    {
     "name": "stderr",
     "output_type": "stream",
     "text": [
      "unable to apply transformation: 'headlines' property not found in this node\n",
      "unable to apply transformation: 'headlines' property not found in this node\n",
      "unable to apply transformation: 'headlines' property not found in this node\n",
      "unable to apply transformation: 'headlines' property not found in this node\n",
      "unable to apply transformation: 'headlines' property not found in this node\n",
      "unable to apply transformation: 'headlines' property not found in this node\n"
     ]
    },
    {
     "data": {
      "application/vnd.jupyter.widget-view+json": {
       "model_id": "31933ad981ae4e8e9fae8fd45b729edb",
       "version_major": 2,
       "version_minor": 0
      },
      "text/plain": [
       "Applying SummaryExtractor:   0%|          | 0/6 [00:00<?, ?it/s]"
      ]
     },
     "metadata": {},
     "output_type": "display_data"
    },
    {
     "name": "stderr",
     "output_type": "stream",
     "text": [
      "Property 'summary' already exists in node 'c3af03'. Skipping!\n"
     ]
    },
    {
     "data": {
      "application/vnd.jupyter.widget-view+json": {
       "model_id": "6f858a573b134a58872b017f00d9eecd",
       "version_major": 2,
       "version_minor": 0
      },
      "text/plain": [
       "Applying CustomNodeFilter:   0%|          | 0/13 [00:00<?, ?it/s]"
      ]
     },
     "metadata": {},
     "output_type": "display_data"
    },
    {
     "data": {
      "application/vnd.jupyter.widget-view+json": {
       "model_id": "3e2c32c4025f4957b0c80191478acf5d",
       "version_major": 2,
       "version_minor": 0
      },
      "text/plain": [
       "Applying [EmbeddingExtractor, ThemesExtractor, NERExtractor]:   0%|          | 0/32 [00:00<?, ?it/s]"
      ]
     },
     "metadata": {},
     "output_type": "display_data"
    },
    {
     "name": "stderr",
     "output_type": "stream",
     "text": [
      "Property 'summary_embedding' already exists in node 'c3af03'. Skipping!\n"
     ]
    },
    {
     "data": {
      "application/vnd.jupyter.widget-view+json": {
       "model_id": "e556130123c04e58a02eb7d1522898db",
       "version_major": 2,
       "version_minor": 0
      },
      "text/plain": [
       "Applying [CosineSimilarityBuilder, OverlapScoreBuilder]:   0%|          | 0/2 [00:00<?, ?it/s]"
      ]
     },
     "metadata": {},
     "output_type": "display_data"
    },
    {
     "data": {
      "application/vnd.jupyter.widget-view+json": {
       "model_id": "c42851766bf349daa136bb235ec25b1f",
       "version_major": 2,
       "version_minor": 0
      },
      "text/plain": [
       "Generating personas:   0%|          | 0/3 [00:00<?, ?it/s]"
      ]
     },
     "metadata": {},
     "output_type": "display_data"
    },
    {
     "data": {
      "application/vnd.jupyter.widget-view+json": {
       "model_id": "9d35bf2de48f4b5b910cc2df839bdbaf",
       "version_major": 2,
       "version_minor": 0
      },
      "text/plain": [
       "Generating Scenarios:   0%|          | 0/3 [00:00<?, ?it/s]"
      ]
     },
     "metadata": {},
     "output_type": "display_data"
    },
    {
     "data": {
      "application/vnd.jupyter.widget-view+json": {
       "model_id": "775b9d6e31d34eb6bf5194fc96e8ad09",
       "version_major": 2,
       "version_minor": 0
      },
      "text/plain": [
       "Generating Samples:   0%|          | 0/6 [00:00<?, ?it/s]"
      ]
     },
     "metadata": {},
     "output_type": "display_data"
    },
    {
     "data": {
      "text/html": [
       "<div>\n",
       "<style scoped>\n",
       "    .dataframe tbody tr th:only-of-type {\n",
       "        vertical-align: middle;\n",
       "    }\n",
       "\n",
       "    .dataframe tbody tr th {\n",
       "        vertical-align: top;\n",
       "    }\n",
       "\n",
       "    .dataframe thead th {\n",
       "        text-align: right;\n",
       "    }\n",
       "</style>\n",
       "<table border=\"1\" class=\"dataframe\">\n",
       "  <thead>\n",
       "    <tr style=\"text-align: right;\">\n",
       "      <th></th>\n",
       "      <th>user_input</th>\n",
       "      <th>reference_contexts</th>\n",
       "      <th>reference</th>\n",
       "      <th>synthesizer_name</th>\n",
       "    </tr>\n",
       "  </thead>\n",
       "  <tbody>\n",
       "    <tr>\n",
       "      <th>0</th>\n",
       "      <td>How does GitLab promote diversity and inclusio...</td>\n",
       "      <td>[title: \"Building an Inclusive Remote Culture\"...</td>\n",
       "      <td>GitLab promotes diversity and inclusion by ena...</td>\n",
       "      <td>single_hop_specifc_query_synthesizer</td>\n",
       "    </tr>\n",
       "    <tr>\n",
       "      <th>1</th>\n",
       "      <td>Wht is the significnce of Dversity in the cont...</td>\n",
       "      <td>[Creating a Diversity, Inclusion &amp; Belonging A...</td>\n",
       "      <td>The significance of diversity in the context o...</td>\n",
       "      <td>single_hop_specifc_query_synthesizer</td>\n",
       "    </tr>\n",
       "    <tr>\n",
       "      <th>2</th>\n",
       "      <td>What are the goals of the Sales Sponsorship Pi...</td>\n",
       "      <td>[&lt;1-hop&gt;\\n\\ntitle: \"Sales Sponsorship Pilot Pr...</td>\n",
       "      <td>The goals of the Sales Sponsorship Pilot Progr...</td>\n",
       "      <td>multi_hop_abstract_query_synthesizer</td>\n",
       "    </tr>\n",
       "    <tr>\n",
       "      <th>3</th>\n",
       "      <td>What are the goals and benefits of the Sales S...</td>\n",
       "      <td>[&lt;1-hop&gt;\\n\\ntitle: \"Sales Sponsorship Pilot Pr...</td>\n",
       "      <td>The goals of the Sales Sponsorship Pilot Progr...</td>\n",
       "      <td>multi_hop_abstract_query_synthesizer</td>\n",
       "    </tr>\n",
       "    <tr>\n",
       "      <th>4</th>\n",
       "      <td>How do DIB roundtables contribute to fostering...</td>\n",
       "      <td>[&lt;1-hop&gt;\\n\\nTips for Managers Set aside time t...</td>\n",
       "      <td>DIB roundtables contribute to fostering a sens...</td>\n",
       "      <td>multi_hop_specific_query_synthesizer</td>\n",
       "    </tr>\n",
       "    <tr>\n",
       "      <th>5</th>\n",
       "      <td>How do the practices of allyship discussed in ...</td>\n",
       "      <td>[&lt;1-hop&gt;\\n\\nTips on being an ally Identifying ...</td>\n",
       "      <td>The practices of allyship outlined in the tips...</td>\n",
       "      <td>multi_hop_specific_query_synthesizer</td>\n",
       "    </tr>\n",
       "  </tbody>\n",
       "</table>\n",
       "</div>"
      ],
      "text/plain": [
       "                                          user_input  \\\n",
       "0  How does GitLab promote diversity and inclusio...   \n",
       "1  Wht is the significnce of Dversity in the cont...   \n",
       "2  What are the goals of the Sales Sponsorship Pi...   \n",
       "3  What are the goals and benefits of the Sales S...   \n",
       "4  How do DIB roundtables contribute to fostering...   \n",
       "5  How do the practices of allyship discussed in ...   \n",
       "\n",
       "                                  reference_contexts  \\\n",
       "0  [title: \"Building an Inclusive Remote Culture\"...   \n",
       "1  [Creating a Diversity, Inclusion & Belonging A...   \n",
       "2  [<1-hop>\\n\\ntitle: \"Sales Sponsorship Pilot Pr...   \n",
       "3  [<1-hop>\\n\\ntitle: \"Sales Sponsorship Pilot Pr...   \n",
       "4  [<1-hop>\\n\\nTips for Managers Set aside time t...   \n",
       "5  [<1-hop>\\n\\nTips on being an ally Identifying ...   \n",
       "\n",
       "                                           reference  \\\n",
       "0  GitLab promotes diversity and inclusion by ena...   \n",
       "1  The significance of diversity in the context o...   \n",
       "2  The goals of the Sales Sponsorship Pilot Progr...   \n",
       "3  The goals of the Sales Sponsorship Pilot Progr...   \n",
       "4  DIB roundtables contribute to fostering a sens...   \n",
       "5  The practices of allyship outlined in the tips...   \n",
       "\n",
       "                       synthesizer_name  \n",
       "0  single_hop_specifc_query_synthesizer  \n",
       "1  single_hop_specifc_query_synthesizer  \n",
       "2  multi_hop_abstract_query_synthesizer  \n",
       "3  multi_hop_abstract_query_synthesizer  \n",
       "4  multi_hop_specific_query_synthesizer  \n",
       "5  multi_hop_specific_query_synthesizer  "
      ]
     },
     "execution_count": 8,
     "metadata": {},
     "output_type": "execute_result"
    }
   ],
   "source": [
    "import time\n",
    "\n",
    "from ragas.testset import TestsetGenerator\n",
    "from ragas.testset.synthesizers import default_query_distribution\n",
    "\n",
    "TESTSET_SIZE = 5\n",
    "\n",
    "query_distribution = default_query_distribution(generator_llm)\n",
    "\n",
    "# Create the generator \n",
    "generator = TestsetGenerator(llm=generator_llm, \n",
    "                             embedding_model=generator_embeddings)\n",
    "\n",
    "# Generate the dataset\n",
    "dataset = generator.generate_with_langchain_docs(docs, \n",
    "                                                 testset_size=TESTSET_SIZE,\n",
    "                                                 query_distribution = query_distribution)\n",
    "\n",
    "\n",
    "# Write the testet to disk\n",
    "# Write the results to disk\n",
    "timestr = time.strftime(\"%Y%m%d%H%M%S\")\n",
    "file_name = \"sample_testset.csv_\" + timestr \n",
    "dataset.to_csv((f\"{file_name}\"))\n",
    "\n",
    "# Display the dataset\n",
    "dataset.to_pandas()\n"
   ]
  },
  {
   "cell_type": "markdown",
   "metadata": {},
   "source": [
    "# 10-K Docs"
   ]
  },
  {
   "cell_type": "code",
   "execution_count": 9,
   "metadata": {},
   "outputs": [
    {
     "name": "stderr",
     "output_type": "stream",
     "text": [
      "  0%|          | 0/2 [00:00<?, ?it/s]libmagic is unavailable but assists in filetype detection. Please consider installing libmagic for better results.\n",
      "libmagic is unavailable but assists in filetype detection. Please consider installing libmagic for better results.\n",
      "100%|██████████| 2/2 [00:01<00:00,  1.22it/s]\n"
     ]
    }
   ],
   "source": [
    "from langchain_community.document_loaders import DirectoryLoader\n",
    "\n",
    "path = \"docs/10k/html\"\n",
    "\n",
    "loader = DirectoryLoader(path=path, \n",
    "                         glob=\"**/*.html\", \n",
    "                         show_progress=True, \n",
    "                         use_multithreading=True)\n",
    "\n",
    "docs = loader.load()"
   ]
  },
  {
   "cell_type": "code",
   "execution_count": null,
   "metadata": {},
   "outputs": [],
   "source": [
    "from ragas.testset import TestsetGenerator\n",
    "from ragas.testset.synthesizers import default_query_distribution\n",
    "\n",
    "TESTSET_SIZE = 50\n",
    "\n",
    "query_distribution = default_query_distribution(generator_llm)\n",
    "\n",
    "# Create the generator \n",
    "generator = TestsetGenerator(llm=generator_llm, \n",
    "                             embedding_model=generator_embeddings)\n",
    "\n",
    "# Generate the dataset\n",
    "dataset = generator.generate_with_langchain_docs(docs, \n",
    "                                                 testset_size=TESTSET_SIZE,\n",
    "                                                 query_distribution = query_distribution)\n",
    "\n",
    "\n",
    "# Write the testet to disk\n",
    "timestr = time.strftime(\"%Y%m%d%H%M%S\")\n",
    "file_name = \"10k_testset.csv_\" + timestr\n",
    "dataset.to_csv((f\"{file_name}\"))\n",
    "\n",
    "# Display the dataset\n",
    "dataset.to_pandas()"
   ]
  },
  {
   "cell_type": "code",
   "execution_count": null,
   "metadata": {},
   "outputs": [],
   "source": [
    "testset_link = dataset.upload()\n",
    "print(testset_link)"
   ]
  }
 ],
 "metadata": {
  "kernelspec": {
   "display_name": ".venv",
   "language": "python",
   "name": "python3"
  },
  "language_info": {
   "codemirror_mode": {
    "name": "ipython",
    "version": 3
   },
   "file_extension": ".py",
   "mimetype": "text/x-python",
   "name": "python",
   "nbconvert_exporter": "python",
   "pygments_lexer": "ipython3",
   "version": "3.12.6"
  }
 },
 "nbformat": 4,
 "nbformat_minor": 2
}
