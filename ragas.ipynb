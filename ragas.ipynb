{
 "cells": [
  {
   "cell_type": "markdown",
   "metadata": {},
   "source": [
    "More information can be found at the link below\n",
    "https://github.com/explodinggradients/ragas/blob/main/docs/getstarted/rag_testset_generation.md"
   ]
  },
  {
   "cell_type": "markdown",
   "metadata": {},
   "source": [
    "# Setup"
   ]
  },
  {
   "cell_type": "code",
   "execution_count": 1,
   "metadata": {},
   "outputs": [
    {
     "name": "stdout",
     "output_type": "stream",
     "text": [
      "Note: you may need to restart the kernel to use updated packages.\n",
      "Note: you may need to restart the kernel to use updated packages.\n",
      "Note: you may need to restart the kernel to use updated packages.\n",
      "Note: you may need to restart the kernel to use updated packages.\n",
      "Note: you may need to restart the kernel to use updated packages.\n",
      "Note: you may need to restart the kernel to use updated packages.\n",
      "Note: you may need to restart the kernel to use updated packages.\n",
      "Note: you may need to restart the kernel to use updated packages.\n"
     ]
    }
   ],
   "source": [
    "%pip install -qU IProgress\n",
    "%pip install -qU ipywidgets\n",
    "%pip install -qU python-dotenv\n",
    "%pip install -qU tqdm\n",
    "\n",
    "%pip install -qU langchain-community\n",
    "%pip install -qU \"unstructured[md]\"\n",
    "%pip install -qU \"unstructured[pdf]\"\n",
    "\n",
    "%pip install -qU ragas"
   ]
  },
  {
   "cell_type": "markdown",
   "metadata": {},
   "source": [
    "# Environment Variables"
   ]
  },
  {
   "cell_type": "code",
   "execution_count": 2,
   "metadata": {},
   "outputs": [
    {
     "data": {
      "text/plain": [
       "True"
      ]
     },
     "execution_count": 2,
     "metadata": {},
     "output_type": "execute_result"
    }
   ],
   "source": [
    "# Get environment variables\n",
    "\n",
    "from dotenv import load_dotenv\n",
    "\n",
    "\n",
    "# Load environment variables from .env file\n",
    "load_dotenv()"
   ]
  },
  {
   "cell_type": "markdown",
   "metadata": {},
   "source": [
    "# Sample Docs"
   ]
  },
  {
   "cell_type": "code",
   "execution_count": 4,
   "metadata": {},
   "outputs": [
    {
     "name": "stderr",
     "output_type": "stream",
     "text": [
      "libmagic is unavailable but assists in filetype detection. Please consider installing libmagic for better results.\n",
      "libmagic is unavailable but assists in filetype detection. Please consider installing libmagic for better results.\n",
      "libmagic is unavailable but assists in filetype detection. Please consider installing libmagic for better results.\n",
      "libmagic is unavailable but assists in filetype detection. Please consider installing libmagic for better results.\n",
      "libmagic is unavailable but assists in filetype detection. Please consider installing libmagic for better results.\n",
      "libmagic is unavailable but assists in filetype detection. Please consider installing libmagic for better results.\n",
      "libmagic is unavailable but assists in filetype detection. Please consider installing libmagic for better results.\n",
      "libmagic is unavailable but assists in filetype detection. Please consider installing libmagic for better results.\n",
      "\n",
      "libmagic is unavailable but assists in filetype detection. Please consider installing libmagic for better results.\n",
      " 73%|███████▎  | 8/11 [00:00<00:00, 63.36it/s]libmagic is unavailable but assists in filetype detection. Please consider installing libmagic for better results.\n",
      " 82%|████████▏ | 9/11 [00:00<00:00, 63.36it/s]libmagic is unavailable but assists in filetype detection. Please consider installing libmagic for better results.\n",
      "100%|██████████| 11/11 [00:00<00:00, 73.69it/s]\n"
     ]
    }
   ],
   "source": [
    "from langchain_community.document_loaders import DirectoryLoader\n",
    "\n",
    "path = \"docs/sample/\"\n",
    "\n",
    "loader = DirectoryLoader(path, \n",
    "                         glob=\"**/*.md\", \n",
    "                         show_progress=True, \n",
    "                         use_multithreading=True)\n",
    "\n",
    "docs = loader.load()"
   ]
  },
  {
   "cell_type": "code",
   "execution_count": 5,
   "metadata": {},
   "outputs": [],
   "source": [
    "from langchain_openai import ChatOpenAI, OpenAIEmbeddings\n",
    "from ragas.embeddings import LangchainEmbeddingsWrapper\n",
    "from ragas.llms import LangchainLLMWrapper\n",
    "\n",
    "generator_llm = LangchainLLMWrapper(ChatOpenAI(model=\"gpt-4o-mini\"))\n",
    "\n",
    "generator_embeddings = LangchainEmbeddingsWrapper(OpenAIEmbeddings())"
   ]
  },
  {
   "cell_type": "code",
   "execution_count": null,
   "metadata": {},
   "outputs": [
    {
     "data": {
      "application/vnd.jupyter.widget-view+json": {
       "model_id": "0527170ad3524de7ab5af6320f155bca",
       "version_major": 2,
       "version_minor": 0
      },
      "text/plain": [
       "Applying HeadlinesExtractor:   0%|          | 0/5 [00:00<?, ?it/s]"
      ]
     },
     "metadata": {},
     "output_type": "display_data"
    },
    {
     "data": {
      "application/vnd.jupyter.widget-view+json": {
       "model_id": "bf9ccb5315244adb85887b371590bc6f",
       "version_major": 2,
       "version_minor": 0
      },
      "text/plain": [
       "Applying HeadlineSplitter:   0%|          | 0/11 [00:00<?, ?it/s]"
      ]
     },
     "metadata": {},
     "output_type": "display_data"
    },
    {
     "name": "stderr",
     "output_type": "stream",
     "text": [
      "unable to apply transformation: 'headlines' property not found in this node\n",
      "unable to apply transformation: 'headlines' property not found in this node\n",
      "unable to apply transformation: 'headlines' property not found in this node\n",
      "unable to apply transformation: 'headlines' property not found in this node\n",
      "unable to apply transformation: 'headlines' property not found in this node\n",
      "unable to apply transformation: 'headlines' property not found in this node\n"
     ]
    },
    {
     "data": {
      "application/vnd.jupyter.widget-view+json": {
       "model_id": "bb801bf8268b44d68eb1a33c6eed2b01",
       "version_major": 2,
       "version_minor": 0
      },
      "text/plain": [
       "Applying SummaryExtractor:   0%|          | 0/6 [00:00<?, ?it/s]"
      ]
     },
     "metadata": {},
     "output_type": "display_data"
    },
    {
     "name": "stderr",
     "output_type": "stream",
     "text": [
      "Property 'summary' already exists in node '16ec1f'. Skipping!\n"
     ]
    },
    {
     "data": {
      "application/vnd.jupyter.widget-view+json": {
       "model_id": "93ce987fc0414b29b647d7e891619f06",
       "version_major": 2,
       "version_minor": 0
      },
      "text/plain": [
       "Applying CustomNodeFilter:   0%|          | 0/13 [00:00<?, ?it/s]"
      ]
     },
     "metadata": {},
     "output_type": "display_data"
    },
    {
     "data": {
      "application/vnd.jupyter.widget-view+json": {
       "model_id": "046fe6f98f1e40f1853f672b27894b00",
       "version_major": 2,
       "version_minor": 0
      },
      "text/plain": [
       "Applying [EmbeddingExtractor, ThemesExtractor, NERExtractor]:   0%|          | 0/32 [00:00<?, ?it/s]"
      ]
     },
     "metadata": {},
     "output_type": "display_data"
    },
    {
     "name": "stderr",
     "output_type": "stream",
     "text": [
      "Property 'summary_embedding' already exists in node '16ec1f'. Skipping!\n"
     ]
    },
    {
     "data": {
      "application/vnd.jupyter.widget-view+json": {
       "model_id": "6af4f21150a64fb8bf1f7503e59eb735",
       "version_major": 2,
       "version_minor": 0
      },
      "text/plain": [
       "Applying [CosineSimilarityBuilder, OverlapScoreBuilder]:   0%|          | 0/2 [00:00<?, ?it/s]"
      ]
     },
     "metadata": {},
     "output_type": "display_data"
    },
    {
     "data": {
      "application/vnd.jupyter.widget-view+json": {
       "model_id": "0d78dafd56d0491eb162d64904133042",
       "version_major": 2,
       "version_minor": 0
      },
      "text/plain": [
       "Generating personas:   0%|          | 0/3 [00:00<?, ?it/s]"
      ]
     },
     "metadata": {},
     "output_type": "display_data"
    },
    {
     "data": {
      "application/vnd.jupyter.widget-view+json": {
       "model_id": "eae87b53d2c7466a90ed8a779e395160",
       "version_major": 2,
       "version_minor": 0
      },
      "text/plain": [
       "Generating Scenarios:   0%|          | 0/3 [00:00<?, ?it/s]"
      ]
     },
     "metadata": {},
     "output_type": "display_data"
    },
    {
     "data": {
      "application/vnd.jupyter.widget-view+json": {
       "model_id": "7051c34ba9a14d67b1563a287172f3e1",
       "version_major": 2,
       "version_minor": 0
      },
      "text/plain": [
       "Generating Samples:   0%|          | 0/6 [00:00<?, ?it/s]"
      ]
     },
     "metadata": {},
     "output_type": "display_data"
    },
    {
     "data": {
      "text/html": [
       "<div>\n",
       "<style scoped>\n",
       "    .dataframe tbody tr th:only-of-type {\n",
       "        vertical-align: middle;\n",
       "    }\n",
       "\n",
       "    .dataframe tbody tr th {\n",
       "        vertical-align: top;\n",
       "    }\n",
       "\n",
       "    .dataframe thead th {\n",
       "        text-align: right;\n",
       "    }\n",
       "</style>\n",
       "<table border=\"1\" class=\"dataframe\">\n",
       "  <thead>\n",
       "    <tr style=\"text-align: right;\">\n",
       "      <th></th>\n",
       "      <th>user_input</th>\n",
       "      <th>reference_contexts</th>\n",
       "      <th>reference</th>\n",
       "      <th>synthesizer_name</th>\n",
       "    </tr>\n",
       "  </thead>\n",
       "  <tbody>\n",
       "    <tr>\n",
       "      <th>0</th>\n",
       "      <td>How does GitLab support the development of all...</td>\n",
       "      <td>[title: \"The Ally Lab\" description: Learn what...</td>\n",
       "      <td>GitLab supports the development of allies by p...</td>\n",
       "      <td>single_hop_specifc_query_synthesizer</td>\n",
       "    </tr>\n",
       "    <tr>\n",
       "      <th>1</th>\n",
       "      <td>How can Instagram be used to promote diversity...</td>\n",
       "      <td>[Skills and Behaviors of allies To be an effec...</td>\n",
       "      <td>Using Instagram for diversity and inclusion sh...</td>\n",
       "      <td>single_hop_specifc_query_synthesizer</td>\n",
       "    </tr>\n",
       "    <tr>\n",
       "      <th>2</th>\n",
       "      <td>What strategies can GitLab implement to foster...</td>\n",
       "      <td>[&lt;1-hop&gt;\\n\\ntitle: \"Building an Inclusive Remo...</td>\n",
       "      <td>To foster an inclusive remote culture, GitLab ...</td>\n",
       "      <td>multi_hop_abstract_query_synthesizer</td>\n",
       "    </tr>\n",
       "    <tr>\n",
       "      <th>3</th>\n",
       "      <td>How do DIB Roundtables foster empathy and prom...</td>\n",
       "      <td>[&lt;1-hop&gt;\\n\\ntitle: \"Roundtables\" description: ...</td>\n",
       "      <td>DIB Roundtables foster empathy and promote div...</td>\n",
       "      <td>multi_hop_abstract_query_synthesizer</td>\n",
       "    </tr>\n",
       "    <tr>\n",
       "      <th>4</th>\n",
       "      <td>What steps did GitLab take to create the DIB A...</td>\n",
       "      <td>[&lt;1-hop&gt;\\n\\nCreating a Diversity, Inclusion &amp; ...</td>\n",
       "      <td>GitLab created the DIB Advisory Group by condu...</td>\n",
       "      <td>multi_hop_specific_query_synthesizer</td>\n",
       "    </tr>\n",
       "    <tr>\n",
       "      <th>5</th>\n",
       "      <td>How do the DIB Roundtables contribute to foste...</td>\n",
       "      <td>[&lt;1-hop&gt;\\n\\nCreating a Diversity, Inclusion &amp; ...</td>\n",
       "      <td>The DIB Roundtables contribute to fostering a ...</td>\n",
       "      <td>multi_hop_specific_query_synthesizer</td>\n",
       "    </tr>\n",
       "  </tbody>\n",
       "</table>\n",
       "</div>"
      ],
      "text/plain": [
       "                                          user_input  \\\n",
       "0  How does GitLab support the development of all...   \n",
       "1  How can Instagram be used to promote diversity...   \n",
       "2  What strategies can GitLab implement to foster...   \n",
       "3  How do DIB Roundtables foster empathy and prom...   \n",
       "4  What steps did GitLab take to create the DIB A...   \n",
       "5  How do the DIB Roundtables contribute to foste...   \n",
       "\n",
       "                                  reference_contexts  \\\n",
       "0  [title: \"The Ally Lab\" description: Learn what...   \n",
       "1  [Skills and Behaviors of allies To be an effec...   \n",
       "2  [<1-hop>\\n\\ntitle: \"Building an Inclusive Remo...   \n",
       "3  [<1-hop>\\n\\ntitle: \"Roundtables\" description: ...   \n",
       "4  [<1-hop>\\n\\nCreating a Diversity, Inclusion & ...   \n",
       "5  [<1-hop>\\n\\nCreating a Diversity, Inclusion & ...   \n",
       "\n",
       "                                           reference  \\\n",
       "0  GitLab supports the development of allies by p...   \n",
       "1  Using Instagram for diversity and inclusion sh...   \n",
       "2  To foster an inclusive remote culture, GitLab ...   \n",
       "3  DIB Roundtables foster empathy and promote div...   \n",
       "4  GitLab created the DIB Advisory Group by condu...   \n",
       "5  The DIB Roundtables contribute to fostering a ...   \n",
       "\n",
       "                       synthesizer_name  \n",
       "0  single_hop_specifc_query_synthesizer  \n",
       "1  single_hop_specifc_query_synthesizer  \n",
       "2  multi_hop_abstract_query_synthesizer  \n",
       "3  multi_hop_abstract_query_synthesizer  \n",
       "4  multi_hop_specific_query_synthesizer  \n",
       "5  multi_hop_specific_query_synthesizer  "
      ]
     },
     "execution_count": 7,
     "metadata": {},
     "output_type": "execute_result"
    }
   ],
   "source": [
    "from ragas.testset import TestsetGenerator\n",
    "from ragas.testset.synthesizers import default_query_distribution\n",
    "\n",
    "TESTSET_SIZE = 5\n",
    "\n",
    "query_distribution = default_query_distribution(generator_llm)\n",
    "\n",
    "# Create the generator \n",
    "generator = TestsetGenerator(llm=generator_llm, \n",
    "                             embedding_model=generator_embeddings)\n",
    "\n",
    "# Generate the dataset\n",
    "dataset = generator.generate_with_langchain_docs(docs, \n",
    "                                                 testset_size=TESTSET_SIZE,\n",
    "                                                 query_distribution = query_distribution)\n",
    "\n",
    "\n",
    "# Write the testet to disk\n",
    "file_name = \"sample_testset.csv\"\n",
    "dataset.to_csv((f\"{file_name}\"))\n",
    "\n",
    "# Display the dataset\n",
    "dataset.to_pandas()\n"
   ]
  },
  {
   "cell_type": "markdown",
   "metadata": {},
   "source": [
    "# 10-K Docs"
   ]
  },
  {
   "cell_type": "code",
   "execution_count": 8,
   "metadata": {},
   "outputs": [
    {
     "name": "stderr",
     "output_type": "stream",
     "text": [
      "libmagic is unavailable but assists in filetype detection. Please consider installing libmagic for better results.\n",
      "libmagic is unavailable but assists in filetype detection. Please consider installing libmagic for better results.\n",
      "100%|██████████| 2/2 [00:01<00:00,  1.33it/s]\n"
     ]
    }
   ],
   "source": [
    "from langchain_community.document_loaders import DirectoryLoader\n",
    "\n",
    "path = \"docs/10k/html\"\n",
    "\n",
    "loader = DirectoryLoader(path=path, \n",
    "                         glob=\"**/*.html\", \n",
    "                         show_progress=True, \n",
    "                         use_multithreading=True)\n",
    "\n",
    "docs = loader.load()"
   ]
  },
  {
   "cell_type": "code",
   "execution_count": 9,
   "metadata": {},
   "outputs": [
    {
     "data": {
      "application/vnd.jupyter.widget-view+json": {
       "model_id": "e81d1db9abad4d0fbe6896fed2d9146e",
       "version_major": 2,
       "version_minor": 0
      },
      "text/plain": [
       "Applying HeadlinesExtractor:   0%|          | 0/2 [00:00<?, ?it/s]"
      ]
     },
     "metadata": {},
     "output_type": "display_data"
    },
    {
     "data": {
      "application/vnd.jupyter.widget-view+json": {
       "model_id": "bf961652455f49be8448124ecaede1db",
       "version_major": 2,
       "version_minor": 0
      },
      "text/plain": [
       "Applying HeadlineSplitter:   0%|          | 0/2 [00:00<?, ?it/s]"
      ]
     },
     "metadata": {},
     "output_type": "display_data"
    },
    {
     "data": {
      "application/vnd.jupyter.widget-view+json": {
       "model_id": "4bb24209974443c9bae1b1c13e8841a9",
       "version_major": 2,
       "version_minor": 0
      },
      "text/plain": [
       "Applying SummaryExtractor:   0%|          | 0/2 [00:00<?, ?it/s]"
      ]
     },
     "metadata": {},
     "output_type": "display_data"
    },
    {
     "data": {
      "application/vnd.jupyter.widget-view+json": {
       "model_id": "52678feec9dc4d2fa7910c1a709148ff",
       "version_major": 2,
       "version_minor": 0
      },
      "text/plain": [
       "Applying CustomNodeFilter:   0%|          | 0/162 [00:00<?, ?it/s]"
      ]
     },
     "metadata": {},
     "output_type": "display_data"
    },
    {
     "data": {
      "application/vnd.jupyter.widget-view+json": {
       "model_id": "ed954878d25340aca3ace8cd44cd3aa4",
       "version_major": 2,
       "version_minor": 0
      },
      "text/plain": [
       "Applying [EmbeddingExtractor, ThemesExtractor, NERExtractor]:   0%|          | 0/242 [00:00<?, ?it/s]"
      ]
     },
     "metadata": {},
     "output_type": "display_data"
    },
    {
     "data": {
      "application/vnd.jupyter.widget-view+json": {
       "model_id": "a1a22d79e5bf4b28b4464629636907b2",
       "version_major": 2,
       "version_minor": 0
      },
      "text/plain": [
       "Applying [CosineSimilarityBuilder, OverlapScoreBuilder]:   0%|          | 0/2 [00:00<?, ?it/s]"
      ]
     },
     "metadata": {},
     "output_type": "display_data"
    },
    {
     "data": {
      "application/vnd.jupyter.widget-view+json": {
       "model_id": "ed5411b2707148a48a0a1ef7c3a77546",
       "version_major": 2,
       "version_minor": 0
      },
      "text/plain": [
       "Generating personas:   0%|          | 0/2 [00:00<?, ?it/s]"
      ]
     },
     "metadata": {},
     "output_type": "display_data"
    },
    {
     "data": {
      "application/vnd.jupyter.widget-view+json": {
       "model_id": "239ea37db18f4f4c9a5613c69b60a784",
       "version_major": 2,
       "version_minor": 0
      },
      "text/plain": [
       "Generating Scenarios:   0%|          | 0/3 [00:00<?, ?it/s]"
      ]
     },
     "metadata": {},
     "output_type": "display_data"
    },
    {
     "data": {
      "application/vnd.jupyter.widget-view+json": {
       "model_id": "4ef620b631c64e528208a06c5257496e",
       "version_major": 2,
       "version_minor": 0
      },
      "text/plain": [
       "Generating Samples:   0%|          | 0/51 [00:00<?, ?it/s]"
      ]
     },
     "metadata": {},
     "output_type": "display_data"
    },
    {
     "data": {
      "text/html": [
       "<div>\n",
       "<style scoped>\n",
       "    .dataframe tbody tr th:only-of-type {\n",
       "        vertical-align: middle;\n",
       "    }\n",
       "\n",
       "    .dataframe tbody tr th {\n",
       "        vertical-align: top;\n",
       "    }\n",
       "\n",
       "    .dataframe thead th {\n",
       "        text-align: right;\n",
       "    }\n",
       "</style>\n",
       "<table border=\"1\" class=\"dataframe\">\n",
       "  <thead>\n",
       "    <tr style=\"text-align: right;\">\n",
       "      <th></th>\n",
       "      <th>user_input</th>\n",
       "      <th>reference_contexts</th>\n",
       "      <th>reference</th>\n",
       "      <th>synthesizer_name</th>\n",
       "    </tr>\n",
       "  </thead>\n",
       "  <tbody>\n",
       "    <tr>\n",
       "      <th>0</th>\n",
       "      <td>What kind of information does the Form 10-K pr...</td>\n",
       "      <td>[PART I Item 1. Business 5 Item 1A. Risk Facto...</td>\n",
       "      <td>The Form 10-K contains forward-looking stateme...</td>\n",
       "      <td>single_hop_specifc_query_synthesizer</td>\n",
       "    </tr>\n",
       "    <tr>\n",
       "      <th>1</th>\n",
       "      <td>Wut happend in September 2023 for Lyft?</td>\n",
       "      <td>[Item 1. Business. Overview Lyft, Inc. (the “C...</td>\n",
       "      <td>In September 2023, Lyft launched Women+ Connec...</td>\n",
       "      <td>single_hop_specifc_query_synthesizer</td>\n",
       "    </tr>\n",
       "    <tr>\n",
       "      <th>2</th>\n",
       "      <td>What role do Light Vehicles play in Lyft's tra...</td>\n",
       "      <td>[Riders; our expectations regarding outstandin...</td>\n",
       "      <td>Light Vehicles are part of Lyft's expanded set...</td>\n",
       "      <td>single_hop_specifc_query_synthesizer</td>\n",
       "    </tr>\n",
       "    <tr>\n",
       "      <th>3</th>\n",
       "      <td>What is the Express Drive program offered by L...</td>\n",
       "      <td>[women and nonbinary drivers the option to tur...</td>\n",
       "      <td>The Express Drive program is Lyft's car rental...</td>\n",
       "      <td>single_hop_specifc_query_synthesizer</td>\n",
       "    </tr>\n",
       "    <tr>\n",
       "      <th>4</th>\n",
       "      <td>Wht are rides in the context of transportation...</td>\n",
       "      <td>[Our Transportation Network Our transportation...</td>\n",
       "      <td>Rides refer to the core offering of our transp...</td>\n",
       "      <td>single_hop_specifc_query_synthesizer</td>\n",
       "    </tr>\n",
       "    <tr>\n",
       "      <th>5</th>\n",
       "      <td>What notable feature was launched by Lyft as o...</td>\n",
       "      <td>[Vehicles, offer more options for shorter trip...</td>\n",
       "      <td>As of November 2023, Lyft launched the Women+ ...</td>\n",
       "      <td>single_hop_specifc_query_synthesizer</td>\n",
       "    </tr>\n",
       "    <tr>\n",
       "      <th>6</th>\n",
       "      <td>How does Alphabet (Waymo) compete in the Trans...</td>\n",
       "      <td>[Risks Related to Regulatory and Legal Factors...</td>\n",
       "      <td>Alphabet (Waymo) competes in the Transportatio...</td>\n",
       "      <td>single_hop_specifc_query_synthesizer</td>\n",
       "    </tr>\n",
       "    <tr>\n",
       "      <th>7</th>\n",
       "      <td>What are the key safety measures implemented b...</td>\n",
       "      <td>[among potential drivers and riders. Our brand...</td>\n",
       "      <td>Transportation companies in the United States ...</td>\n",
       "      <td>single_hop_specifc_query_synthesizer</td>\n",
       "    </tr>\n",
       "    <tr>\n",
       "      <th>8</th>\n",
       "      <td>What is the significance of Canada in the cont...</td>\n",
       "      <td>[our business associated with such laws and re...</td>\n",
       "      <td>The company maintains additional offices in mu...</td>\n",
       "      <td>single_hop_specifc_query_synthesizer</td>\n",
       "    </tr>\n",
       "    <tr>\n",
       "      <th>9</th>\n",
       "      <td>Wht impact did Lyft have in 2023 on providing ...</td>\n",
       "      <td>[who drivers are and how they use Lyft through...</td>\n",
       "      <td>In 2023, Lyft provided access to millions of d...</td>\n",
       "      <td>single_hop_specifc_query_synthesizer</td>\n",
       "    </tr>\n",
       "    <tr>\n",
       "      <th>10</th>\n",
       "      <td>What are the potential economic factors that c...</td>\n",
       "      <td>[intelligence and machine learning; 13 the dev...</td>\n",
       "      <td>Lyft's business performance could be adversely...</td>\n",
       "      <td>single_hop_specifc_query_synthesizer</td>\n",
       "    </tr>\n",
       "    <tr>\n",
       "      <th>11</th>\n",
       "      <td>How COVID-19 affect business operations?</td>\n",
       "      <td>[and business travel, and may reduce our long-...</td>\n",
       "      <td>The COVID-19 pandemic impacted our business op...</td>\n",
       "      <td>single_hop_specifc_query_synthesizer</td>\n",
       "    </tr>\n",
       "    <tr>\n",
       "      <th>12</th>\n",
       "      <td>How has Proposition 22 impacted the financial ...</td>\n",
       "      <td>[network of Light Vehicles and certain vehicle...</td>\n",
       "      <td>The passage of Proposition 22 in California ha...</td>\n",
       "      <td>single_hop_specifc_query_synthesizer</td>\n",
       "    </tr>\n",
       "    <tr>\n",
       "      <th>13</th>\n",
       "      <td>What are the main competitive challenges faced...</td>\n",
       "      <td>[of operations could be adversely affected. As...</td>\n",
       "      <td>Transportation companies in the United States ...</td>\n",
       "      <td>single_hop_specifc_query_synthesizer</td>\n",
       "    </tr>\n",
       "    <tr>\n",
       "      <th>14</th>\n",
       "      <td>What happened in California after Proposition 22?</td>\n",
       "      <td>[July 2023, we announced that we are exploring...</td>\n",
       "      <td>Following the passage of Proposition 22 in Cal...</td>\n",
       "      <td>single_hop_specifc_query_synthesizer</td>\n",
       "    </tr>\n",
       "    <tr>\n",
       "      <th>15</th>\n",
       "      <td>How does the brand reputation impact the perfo...</td>\n",
       "      <td>[and results of operations could be adversely ...</td>\n",
       "      <td>Building a strong reputation and brand as a sa...</td>\n",
       "      <td>single_hop_specifc_query_synthesizer</td>\n",
       "    </tr>\n",
       "    <tr>\n",
       "      <th>16</th>\n",
       "      <td>How do local regulations in California impact ...</td>\n",
       "      <td>[such providers fail to provide accurate infor...</td>\n",
       "      <td>Local regulations in California may affect pri...</td>\n",
       "      <td>single_hop_specifc_query_synthesizer</td>\n",
       "    </tr>\n",
       "    <tr>\n",
       "      <th>17</th>\n",
       "      <td>What were the impacts of COVID-19 on market dy...</td>\n",
       "      <td>[&lt;1-hop&gt;\\n\\nof operations could be adversely a...</td>\n",
       "      <td>The impacts of COVID-19 on market dynamics inc...</td>\n",
       "      <td>multi_hop_abstract_query_synthesizer</td>\n",
       "    </tr>\n",
       "    <tr>\n",
       "      <th>18</th>\n",
       "      <td>How do regulatory compliance and insurance man...</td>\n",
       "      <td>[&lt;1-hop&gt;\\n\\nPART I Item 1. Business 5 Item 1A....</td>\n",
       "      <td>Regulatory compliance and insurance management...</td>\n",
       "      <td>multi_hop_abstract_query_synthesizer</td>\n",
       "    </tr>\n",
       "    <tr>\n",
       "      <th>19</th>\n",
       "      <td>What are the business risk factors associated ...</td>\n",
       "      <td>[&lt;1-hop&gt;\\n\\nPART I Item 1. Business 5 Item 1A....</td>\n",
       "      <td>The business risk factors associated with ride...</td>\n",
       "      <td>multi_hop_abstract_query_synthesizer</td>\n",
       "    </tr>\n",
       "    <tr>\n",
       "      <th>20</th>\n",
       "      <td>How do data privacy and security concerns impa...</td>\n",
       "      <td>[&lt;1-hop&gt;\\n\\nVehicles, offer more options for s...</td>\n",
       "      <td>Data privacy and security concerns significant...</td>\n",
       "      <td>multi_hop_abstract_query_synthesizer</td>\n",
       "    </tr>\n",
       "    <tr>\n",
       "      <th>21</th>\n",
       "      <td>How do the financial performance and commitmen...</td>\n",
       "      <td>[&lt;1-hop&gt;\\n\\nPART I Item 1. Business 5 Item 1A....</td>\n",
       "      <td>Lyft's financial performance is closely tied t...</td>\n",
       "      <td>multi_hop_abstract_query_synthesizer</td>\n",
       "    </tr>\n",
       "    <tr>\n",
       "      <th>22</th>\n",
       "      <td>How do cybersecurity concerns impact the class...</td>\n",
       "      <td>[&lt;1-hop&gt;\\n\\nPART I Item 1. Business 5 Item 1A....</td>\n",
       "      <td>Cybersecurity concerns significantly impact th...</td>\n",
       "      <td>multi_hop_abstract_query_synthesizer</td>\n",
       "    </tr>\n",
       "    <tr>\n",
       "      <th>23</th>\n",
       "      <td>What are the implications of driver classifica...</td>\n",
       "      <td>[&lt;1-hop&gt;\\n\\nPART I Item 1. Business 5 Item 1A....</td>\n",
       "      <td>The implications of driver classification chal...</td>\n",
       "      <td>multi_hop_abstract_query_synthesizer</td>\n",
       "    </tr>\n",
       "    <tr>\n",
       "      <th>24</th>\n",
       "      <td>What are the implications of Lyft's mobility i...</td>\n",
       "      <td>[&lt;1-hop&gt;\\n\\nPART I Item 1. Business 5 Item 1A....</td>\n",
       "      <td>Lyft's mobility innovation, particularly throu...</td>\n",
       "      <td>multi_hop_abstract_query_synthesizer</td>\n",
       "    </tr>\n",
       "    <tr>\n",
       "      <th>25</th>\n",
       "      <td>What are the implications of driver classifica...</td>\n",
       "      <td>[&lt;1-hop&gt;\\n\\nPART I Item 1. Business 5 Item 1A....</td>\n",
       "      <td>The implications of driver classification chal...</td>\n",
       "      <td>multi_hop_abstract_query_synthesizer</td>\n",
       "    </tr>\n",
       "    <tr>\n",
       "      <th>26</th>\n",
       "      <td>What are the management's discussion and analy...</td>\n",
       "      <td>[&lt;1-hop&gt;\\n\\nPART I Item 1. Business 5 Item 1A....</td>\n",
       "      <td>The management's discussion and analysis regar...</td>\n",
       "      <td>multi_hop_abstract_query_synthesizer</td>\n",
       "    </tr>\n",
       "    <tr>\n",
       "      <th>27</th>\n",
       "      <td>How does the classification of drivers as inde...</td>\n",
       "      <td>[&lt;1-hop&gt;\\n\\nPART I Item 1. Business 5 Item 1A....</td>\n",
       "      <td>The classification of drivers as independent c...</td>\n",
       "      <td>multi_hop_abstract_query_synthesizer</td>\n",
       "    </tr>\n",
       "    <tr>\n",
       "      <th>28</th>\n",
       "      <td>What are the business risk factors associated ...</td>\n",
       "      <td>[&lt;1-hop&gt;\\n\\nPART I Item 1. Business 5 Item 1A....</td>\n",
       "      <td>The business risk factors associated with ride...</td>\n",
       "      <td>multi_hop_abstract_query_synthesizer</td>\n",
       "    </tr>\n",
       "    <tr>\n",
       "      <th>29</th>\n",
       "      <td>What are the implications of cybersecurity inc...</td>\n",
       "      <td>[&lt;1-hop&gt;\\n\\nPART I Item 1. Business 5 Item 1A....</td>\n",
       "      <td>Cybersecurity incidents can significantly impa...</td>\n",
       "      <td>multi_hop_abstract_query_synthesizer</td>\n",
       "    </tr>\n",
       "    <tr>\n",
       "      <th>30</th>\n",
       "      <td>How do data privacy and security concerns impa...</td>\n",
       "      <td>[&lt;1-hop&gt;\\n\\nVehicles, offer more options for s...</td>\n",
       "      <td>Data privacy and security concerns significant...</td>\n",
       "      <td>multi_hop_abstract_query_synthesizer</td>\n",
       "    </tr>\n",
       "    <tr>\n",
       "      <th>31</th>\n",
       "      <td>How do data privacy and security concerns impa...</td>\n",
       "      <td>[&lt;1-hop&gt;\\n\\nVehicles, offer more options for s...</td>\n",
       "      <td>Data privacy and security concerns significant...</td>\n",
       "      <td>multi_hop_abstract_query_synthesizer</td>\n",
       "    </tr>\n",
       "    <tr>\n",
       "      <th>32</th>\n",
       "      <td>What were the impacts of COVID-19 on market dy...</td>\n",
       "      <td>[&lt;1-hop&gt;\\n\\nof operations could be adversely a...</td>\n",
       "      <td>The COVID-19 pandemic significantly impacted m...</td>\n",
       "      <td>multi_hop_abstract_query_synthesizer</td>\n",
       "    </tr>\n",
       "    <tr>\n",
       "      <th>33</th>\n",
       "      <td>What were the impacts of COVID-19 on market dy...</td>\n",
       "      <td>[&lt;1-hop&gt;\\n\\nof operations could be adversely a...</td>\n",
       "      <td>The impacts of COVID-19 on market dynamics inc...</td>\n",
       "      <td>multi_hop_abstract_query_synthesizer</td>\n",
       "    </tr>\n",
       "    <tr>\n",
       "      <th>34</th>\n",
       "      <td>What significant financial events occurred for...</td>\n",
       "      <td>[&lt;1-hop&gt;\\n\\nmay not detect. Individuals able t...</td>\n",
       "      <td>In November 2021, Drizly obtained final court ...</td>\n",
       "      <td>multi_hop_specific_query_synthesizer</td>\n",
       "    </tr>\n",
       "    <tr>\n",
       "      <th>35</th>\n",
       "      <td>What were the implications of the March 2022 f...</td>\n",
       "      <td>[&lt;1-hop&gt;\\n\\n2016, we entered into a settlement...</td>\n",
       "      <td>In March 2022, Uber Technologies, Inc. and Ube...</td>\n",
       "      <td>multi_hop_specific_query_synthesizer</td>\n",
       "    </tr>\n",
       "    <tr>\n",
       "      <th>36</th>\n",
       "      <td>What regulatory concerns arise from Uber's ope...</td>\n",
       "      <td>[&lt;1-hop&gt;\\n\\nthe EU, the United States, Brazil,...</td>\n",
       "      <td>In Brazil, as well as in other jurisdictions, ...</td>\n",
       "      <td>multi_hop_specific_query_synthesizer</td>\n",
       "    </tr>\n",
       "    <tr>\n",
       "      <th>37</th>\n",
       "      <td>What new benefits for rideshare drivers were i...</td>\n",
       "      <td>[&lt;1-hop&gt;\\n\\nto ensure that people of diverse b...</td>\n",
       "      <td>In Washington State, a new law was welcomed th...</td>\n",
       "      <td>multi_hop_specific_query_synthesizer</td>\n",
       "    </tr>\n",
       "    <tr>\n",
       "      <th>38</th>\n",
       "      <td>What competitive challenges does Lime face in ...</td>\n",
       "      <td>[&lt;1-hop&gt;\\n\\nin defending our right to operate ...</td>\n",
       "      <td>Lime faces significant competitive challenges ...</td>\n",
       "      <td>multi_hop_specific_query_synthesizer</td>\n",
       "    </tr>\n",
       "    <tr>\n",
       "      <th>39</th>\n",
       "      <td>What regulatory challenges does Uber face in J...</td>\n",
       "      <td>[&lt;1-hop&gt;\\n\\nand increase our market share and ...</td>\n",
       "      <td>Uber's ridesharing business model in Japan fac...</td>\n",
       "      <td>multi_hop_specific_query_synthesizer</td>\n",
       "    </tr>\n",
       "    <tr>\n",
       "      <th>40</th>\n",
       "      <td>What are the challenges faced by transportatio...</td>\n",
       "      <td>[&lt;1-hop&gt;\\n\\nneeds and actions we take in respo...</td>\n",
       "      <td>Transportation companies in the San Francisco ...</td>\n",
       "      <td>multi_hop_specific_query_synthesizer</td>\n",
       "    </tr>\n",
       "    <tr>\n",
       "      <th>41</th>\n",
       "      <td>What factors contributed to the increase in Ri...</td>\n",
       "      <td>[&lt;1-hop&gt;\\n\\ndollar value of transactions invoi...</td>\n",
       "      <td>The increase in Rides in the year ended Decemb...</td>\n",
       "      <td>multi_hop_specific_query_synthesizer</td>\n",
       "    </tr>\n",
       "    <tr>\n",
       "      <th>42</th>\n",
       "      <td>What were the significant restructuring activi...</td>\n",
       "      <td>[&lt;1-hop&gt;\\n\\nAdjusted Net Income (Loss) (1) $ 2...</td>\n",
       "      <td>On November 3, 2022, Uber announced a restruct...</td>\n",
       "      <td>multi_hop_specific_query_synthesizer</td>\n",
       "    </tr>\n",
       "    <tr>\n",
       "      <th>43</th>\n",
       "      <td>How does the development of Lyft Media impact ...</td>\n",
       "      <td>[&lt;1-hop&gt;\\n\\nClaims by others that we infringed...</td>\n",
       "      <td>The development of Lyft Media impacts the comp...</td>\n",
       "      <td>multi_hop_specific_query_synthesizer</td>\n",
       "    </tr>\n",
       "    <tr>\n",
       "      <th>44</th>\n",
       "      <td>What are the regulatory concerns related to ca...</td>\n",
       "      <td>[&lt;1-hop&gt;\\n\\nwe may be subject to additional re...</td>\n",
       "      <td>In India, as well as in other jurisdictions, a...</td>\n",
       "      <td>multi_hop_specific_query_synthesizer</td>\n",
       "    </tr>\n",
       "    <tr>\n",
       "      <th>45</th>\n",
       "      <td>What are the limitations of Adjusted EBITDA as...</td>\n",
       "      <td>[&lt;1-hop&gt;\\n\\nNon-GAAP Financial Measures We col...</td>\n",
       "      <td>Adjusted EBITDA has several limitations as a f...</td>\n",
       "      <td>multi_hop_specific_query_synthesizer</td>\n",
       "    </tr>\n",
       "    <tr>\n",
       "      <th>46</th>\n",
       "      <td>What are the implications of Uber's incorporat...</td>\n",
       "      <td>[&lt;1-hop&gt;\\n\\nhave advocated for wider policy so...</td>\n",
       "      <td>Uber was incorporated as a Delaware corporatio...</td>\n",
       "      <td>multi_hop_specific_query_synthesizer</td>\n",
       "    </tr>\n",
       "    <tr>\n",
       "      <th>47</th>\n",
       "      <td>What are the challenges and opportunities for ...</td>\n",
       "      <td>[&lt;1-hop&gt;\\n\\nare not actively using our platfor...</td>\n",
       "      <td>Uber faces several challenges and opportunitie...</td>\n",
       "      <td>multi_hop_specific_query_synthesizer</td>\n",
       "    </tr>\n",
       "    <tr>\n",
       "      <th>48</th>\n",
       "      <td>What are the climate-related commitments made ...</td>\n",
       "      <td>[&lt;1-hop&gt;\\n\\nmitigate business risks associated...</td>\n",
       "      <td>The company has made several climate-related c...</td>\n",
       "      <td>multi_hop_specific_query_synthesizer</td>\n",
       "    </tr>\n",
       "    <tr>\n",
       "      <th>49</th>\n",
       "      <td>What were the financial performance changes fo...</td>\n",
       "      <td>[&lt;1-hop&gt;\\n\\nbelieve are reflective of our ongo...</td>\n",
       "      <td>For the year ended December 31, 2023 compared ...</td>\n",
       "      <td>multi_hop_specific_query_synthesizer</td>\n",
       "    </tr>\n",
       "    <tr>\n",
       "      <th>50</th>\n",
       "      <td>What are the potential risks associated with t...</td>\n",
       "      <td>[&lt;1-hop&gt;\\n\\nExpress Drive program, as well as ...</td>\n",
       "      <td>The potential risks associated with the Expres...</td>\n",
       "      <td>multi_hop_specific_query_synthesizer</td>\n",
       "    </tr>\n",
       "  </tbody>\n",
       "</table>\n",
       "</div>"
      ],
      "text/plain": [
       "                                           user_input  \\\n",
       "0   What kind of information does the Form 10-K pr...   \n",
       "1             Wut happend in September 2023 for Lyft?   \n",
       "2   What role do Light Vehicles play in Lyft's tra...   \n",
       "3   What is the Express Drive program offered by L...   \n",
       "4   Wht are rides in the context of transportation...   \n",
       "5   What notable feature was launched by Lyft as o...   \n",
       "6   How does Alphabet (Waymo) compete in the Trans...   \n",
       "7   What are the key safety measures implemented b...   \n",
       "8   What is the significance of Canada in the cont...   \n",
       "9   Wht impact did Lyft have in 2023 on providing ...   \n",
       "10  What are the potential economic factors that c...   \n",
       "11           How COVID-19 affect business operations?   \n",
       "12  How has Proposition 22 impacted the financial ...   \n",
       "13  What are the main competitive challenges faced...   \n",
       "14  What happened in California after Proposition 22?   \n",
       "15  How does the brand reputation impact the perfo...   \n",
       "16  How do local regulations in California impact ...   \n",
       "17  What were the impacts of COVID-19 on market dy...   \n",
       "18  How do regulatory compliance and insurance man...   \n",
       "19  What are the business risk factors associated ...   \n",
       "20  How do data privacy and security concerns impa...   \n",
       "21  How do the financial performance and commitmen...   \n",
       "22  How do cybersecurity concerns impact the class...   \n",
       "23  What are the implications of driver classifica...   \n",
       "24  What are the implications of Lyft's mobility i...   \n",
       "25  What are the implications of driver classifica...   \n",
       "26  What are the management's discussion and analy...   \n",
       "27  How does the classification of drivers as inde...   \n",
       "28  What are the business risk factors associated ...   \n",
       "29  What are the implications of cybersecurity inc...   \n",
       "30  How do data privacy and security concerns impa...   \n",
       "31  How do data privacy and security concerns impa...   \n",
       "32  What were the impacts of COVID-19 on market dy...   \n",
       "33  What were the impacts of COVID-19 on market dy...   \n",
       "34  What significant financial events occurred for...   \n",
       "35  What were the implications of the March 2022 f...   \n",
       "36  What regulatory concerns arise from Uber's ope...   \n",
       "37  What new benefits for rideshare drivers were i...   \n",
       "38  What competitive challenges does Lime face in ...   \n",
       "39  What regulatory challenges does Uber face in J...   \n",
       "40  What are the challenges faced by transportatio...   \n",
       "41  What factors contributed to the increase in Ri...   \n",
       "42  What were the significant restructuring activi...   \n",
       "43  How does the development of Lyft Media impact ...   \n",
       "44  What are the regulatory concerns related to ca...   \n",
       "45  What are the limitations of Adjusted EBITDA as...   \n",
       "46  What are the implications of Uber's incorporat...   \n",
       "47  What are the challenges and opportunities for ...   \n",
       "48  What are the climate-related commitments made ...   \n",
       "49  What were the financial performance changes fo...   \n",
       "50  What are the potential risks associated with t...   \n",
       "\n",
       "                                   reference_contexts  \\\n",
       "0   [PART I Item 1. Business 5 Item 1A. Risk Facto...   \n",
       "1   [Item 1. Business. Overview Lyft, Inc. (the “C...   \n",
       "2   [Riders; our expectations regarding outstandin...   \n",
       "3   [women and nonbinary drivers the option to tur...   \n",
       "4   [Our Transportation Network Our transportation...   \n",
       "5   [Vehicles, offer more options for shorter trip...   \n",
       "6   [Risks Related to Regulatory and Legal Factors...   \n",
       "7   [among potential drivers and riders. Our brand...   \n",
       "8   [our business associated with such laws and re...   \n",
       "9   [who drivers are and how they use Lyft through...   \n",
       "10  [intelligence and machine learning; 13 the dev...   \n",
       "11  [and business travel, and may reduce our long-...   \n",
       "12  [network of Light Vehicles and certain vehicle...   \n",
       "13  [of operations could be adversely affected. As...   \n",
       "14  [July 2023, we announced that we are exploring...   \n",
       "15  [and results of operations could be adversely ...   \n",
       "16  [such providers fail to provide accurate infor...   \n",
       "17  [<1-hop>\\n\\nof operations could be adversely a...   \n",
       "18  [<1-hop>\\n\\nPART I Item 1. Business 5 Item 1A....   \n",
       "19  [<1-hop>\\n\\nPART I Item 1. Business 5 Item 1A....   \n",
       "20  [<1-hop>\\n\\nVehicles, offer more options for s...   \n",
       "21  [<1-hop>\\n\\nPART I Item 1. Business 5 Item 1A....   \n",
       "22  [<1-hop>\\n\\nPART I Item 1. Business 5 Item 1A....   \n",
       "23  [<1-hop>\\n\\nPART I Item 1. Business 5 Item 1A....   \n",
       "24  [<1-hop>\\n\\nPART I Item 1. Business 5 Item 1A....   \n",
       "25  [<1-hop>\\n\\nPART I Item 1. Business 5 Item 1A....   \n",
       "26  [<1-hop>\\n\\nPART I Item 1. Business 5 Item 1A....   \n",
       "27  [<1-hop>\\n\\nPART I Item 1. Business 5 Item 1A....   \n",
       "28  [<1-hop>\\n\\nPART I Item 1. Business 5 Item 1A....   \n",
       "29  [<1-hop>\\n\\nPART I Item 1. Business 5 Item 1A....   \n",
       "30  [<1-hop>\\n\\nVehicles, offer more options for s...   \n",
       "31  [<1-hop>\\n\\nVehicles, offer more options for s...   \n",
       "32  [<1-hop>\\n\\nof operations could be adversely a...   \n",
       "33  [<1-hop>\\n\\nof operations could be adversely a...   \n",
       "34  [<1-hop>\\n\\nmay not detect. Individuals able t...   \n",
       "35  [<1-hop>\\n\\n2016, we entered into a settlement...   \n",
       "36  [<1-hop>\\n\\nthe EU, the United States, Brazil,...   \n",
       "37  [<1-hop>\\n\\nto ensure that people of diverse b...   \n",
       "38  [<1-hop>\\n\\nin defending our right to operate ...   \n",
       "39  [<1-hop>\\n\\nand increase our market share and ...   \n",
       "40  [<1-hop>\\n\\nneeds and actions we take in respo...   \n",
       "41  [<1-hop>\\n\\ndollar value of transactions invoi...   \n",
       "42  [<1-hop>\\n\\nAdjusted Net Income (Loss) (1) $ 2...   \n",
       "43  [<1-hop>\\n\\nClaims by others that we infringed...   \n",
       "44  [<1-hop>\\n\\nwe may be subject to additional re...   \n",
       "45  [<1-hop>\\n\\nNon-GAAP Financial Measures We col...   \n",
       "46  [<1-hop>\\n\\nhave advocated for wider policy so...   \n",
       "47  [<1-hop>\\n\\nare not actively using our platfor...   \n",
       "48  [<1-hop>\\n\\nmitigate business risks associated...   \n",
       "49  [<1-hop>\\n\\nbelieve are reflective of our ongo...   \n",
       "50  [<1-hop>\\n\\nExpress Drive program, as well as ...   \n",
       "\n",
       "                                            reference  \\\n",
       "0   The Form 10-K contains forward-looking stateme...   \n",
       "1   In September 2023, Lyft launched Women+ Connec...   \n",
       "2   Light Vehicles are part of Lyft's expanded set...   \n",
       "3   The Express Drive program is Lyft's car rental...   \n",
       "4   Rides refer to the core offering of our transp...   \n",
       "5   As of November 2023, Lyft launched the Women+ ...   \n",
       "6   Alphabet (Waymo) competes in the Transportatio...   \n",
       "7   Transportation companies in the United States ...   \n",
       "8   The company maintains additional offices in mu...   \n",
       "9   In 2023, Lyft provided access to millions of d...   \n",
       "10  Lyft's business performance could be adversely...   \n",
       "11  The COVID-19 pandemic impacted our business op...   \n",
       "12  The passage of Proposition 22 in California ha...   \n",
       "13  Transportation companies in the United States ...   \n",
       "14  Following the passage of Proposition 22 in Cal...   \n",
       "15  Building a strong reputation and brand as a sa...   \n",
       "16  Local regulations in California may affect pri...   \n",
       "17  The impacts of COVID-19 on market dynamics inc...   \n",
       "18  Regulatory compliance and insurance management...   \n",
       "19  The business risk factors associated with ride...   \n",
       "20  Data privacy and security concerns significant...   \n",
       "21  Lyft's financial performance is closely tied t...   \n",
       "22  Cybersecurity concerns significantly impact th...   \n",
       "23  The implications of driver classification chal...   \n",
       "24  Lyft's mobility innovation, particularly throu...   \n",
       "25  The implications of driver classification chal...   \n",
       "26  The management's discussion and analysis regar...   \n",
       "27  The classification of drivers as independent c...   \n",
       "28  The business risk factors associated with ride...   \n",
       "29  Cybersecurity incidents can significantly impa...   \n",
       "30  Data privacy and security concerns significant...   \n",
       "31  Data privacy and security concerns significant...   \n",
       "32  The COVID-19 pandemic significantly impacted m...   \n",
       "33  The impacts of COVID-19 on market dynamics inc...   \n",
       "34  In November 2021, Drizly obtained final court ...   \n",
       "35  In March 2022, Uber Technologies, Inc. and Ube...   \n",
       "36  In Brazil, as well as in other jurisdictions, ...   \n",
       "37  In Washington State, a new law was welcomed th...   \n",
       "38  Lime faces significant competitive challenges ...   \n",
       "39  Uber's ridesharing business model in Japan fac...   \n",
       "40  Transportation companies in the San Francisco ...   \n",
       "41  The increase in Rides in the year ended Decemb...   \n",
       "42  On November 3, 2022, Uber announced a restruct...   \n",
       "43  The development of Lyft Media impacts the comp...   \n",
       "44  In India, as well as in other jurisdictions, a...   \n",
       "45  Adjusted EBITDA has several limitations as a f...   \n",
       "46  Uber was incorporated as a Delaware corporatio...   \n",
       "47  Uber faces several challenges and opportunitie...   \n",
       "48  The company has made several climate-related c...   \n",
       "49  For the year ended December 31, 2023 compared ...   \n",
       "50  The potential risks associated with the Expres...   \n",
       "\n",
       "                        synthesizer_name  \n",
       "0   single_hop_specifc_query_synthesizer  \n",
       "1   single_hop_specifc_query_synthesizer  \n",
       "2   single_hop_specifc_query_synthesizer  \n",
       "3   single_hop_specifc_query_synthesizer  \n",
       "4   single_hop_specifc_query_synthesizer  \n",
       "5   single_hop_specifc_query_synthesizer  \n",
       "6   single_hop_specifc_query_synthesizer  \n",
       "7   single_hop_specifc_query_synthesizer  \n",
       "8   single_hop_specifc_query_synthesizer  \n",
       "9   single_hop_specifc_query_synthesizer  \n",
       "10  single_hop_specifc_query_synthesizer  \n",
       "11  single_hop_specifc_query_synthesizer  \n",
       "12  single_hop_specifc_query_synthesizer  \n",
       "13  single_hop_specifc_query_synthesizer  \n",
       "14  single_hop_specifc_query_synthesizer  \n",
       "15  single_hop_specifc_query_synthesizer  \n",
       "16  single_hop_specifc_query_synthesizer  \n",
       "17  multi_hop_abstract_query_synthesizer  \n",
       "18  multi_hop_abstract_query_synthesizer  \n",
       "19  multi_hop_abstract_query_synthesizer  \n",
       "20  multi_hop_abstract_query_synthesizer  \n",
       "21  multi_hop_abstract_query_synthesizer  \n",
       "22  multi_hop_abstract_query_synthesizer  \n",
       "23  multi_hop_abstract_query_synthesizer  \n",
       "24  multi_hop_abstract_query_synthesizer  \n",
       "25  multi_hop_abstract_query_synthesizer  \n",
       "26  multi_hop_abstract_query_synthesizer  \n",
       "27  multi_hop_abstract_query_synthesizer  \n",
       "28  multi_hop_abstract_query_synthesizer  \n",
       "29  multi_hop_abstract_query_synthesizer  \n",
       "30  multi_hop_abstract_query_synthesizer  \n",
       "31  multi_hop_abstract_query_synthesizer  \n",
       "32  multi_hop_abstract_query_synthesizer  \n",
       "33  multi_hop_abstract_query_synthesizer  \n",
       "34  multi_hop_specific_query_synthesizer  \n",
       "35  multi_hop_specific_query_synthesizer  \n",
       "36  multi_hop_specific_query_synthesizer  \n",
       "37  multi_hop_specific_query_synthesizer  \n",
       "38  multi_hop_specific_query_synthesizer  \n",
       "39  multi_hop_specific_query_synthesizer  \n",
       "40  multi_hop_specific_query_synthesizer  \n",
       "41  multi_hop_specific_query_synthesizer  \n",
       "42  multi_hop_specific_query_synthesizer  \n",
       "43  multi_hop_specific_query_synthesizer  \n",
       "44  multi_hop_specific_query_synthesizer  \n",
       "45  multi_hop_specific_query_synthesizer  \n",
       "46  multi_hop_specific_query_synthesizer  \n",
       "47  multi_hop_specific_query_synthesizer  \n",
       "48  multi_hop_specific_query_synthesizer  \n",
       "49  multi_hop_specific_query_synthesizer  \n",
       "50  multi_hop_specific_query_synthesizer  "
      ]
     },
     "execution_count": 9,
     "metadata": {},
     "output_type": "execute_result"
    }
   ],
   "source": [
    "from ragas.testset import TestsetGenerator\n",
    "from ragas.testset.synthesizers import default_query_distribution\n",
    "\n",
    "TESTSET_SIZE = 50\n",
    "\n",
    "query_distribution = default_query_distribution(generator_llm)\n",
    "\n",
    "# Create the generator \n",
    "generator = TestsetGenerator(llm=generator_llm, \n",
    "                             embedding_model=generator_embeddings)\n",
    "\n",
    "# Generate the dataset\n",
    "dataset = generator.generate_with_langchain_docs(docs, \n",
    "                                                 testset_size=TESTSET_SIZE,\n",
    "                                                 query_distribution = query_distribution)\n",
    "\n",
    "\n",
    "# Write the testet to disk\n",
    "file_name = \"10k_testset.csv\"\n",
    "dataset.to_csv((f\"{file_name}\"))\n",
    "\n",
    "# Display the dataset\n",
    "dataset.to_pandas()"
   ]
  },
  {
   "cell_type": "code",
   "execution_count": 10,
   "metadata": {},
   "outputs": [
    {
     "name": "stdout",
     "output_type": "stream",
     "text": [
      "Testset uploaded! View at https://app.ragas.io/dashboard/alignment/testset/07fca7a7-9785-4906-ba88-5ca6059b9d5b\n",
      "https://app.ragas.io/dashboard/alignment/testset/07fca7a7-9785-4906-ba88-5ca6059b9d5b\n"
     ]
    }
   ],
   "source": [
    "testset_link = dataset.upload()\n",
    "print(testset_link)"
   ]
  }
 ],
 "metadata": {
  "kernelspec": {
   "display_name": "era4-holiday",
   "language": "python",
   "name": "python3"
  },
  "language_info": {
   "codemirror_mode": {
    "name": "ipython",
    "version": 3
   },
   "file_extension": ".py",
   "mimetype": "text/x-python",
   "name": "python",
   "nbconvert_exporter": "python",
   "pygments_lexer": "ipython3",
   "version": "3.12.8"
  }
 },
 "nbformat": 4,
 "nbformat_minor": 2
}
