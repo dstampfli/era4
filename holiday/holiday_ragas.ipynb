{
 "cells": [
  {
   "cell_type": "markdown",
   "metadata": {},
   "source": [
    "# Setup"
   ]
  },
  {
   "cell_type": "code",
   "execution_count": null,
   "metadata": {},
   "outputs": [],
   "source": [
    "%pip install -qU IProgress\n",
    "%pip install -qU ipywidgets\n",
    "%pip install -qU python-dotenv\n",
    "%pip install -qU tqdm\n",
    "\n",
    "%pip install -qU langchain-core==0.2.40\n",
    "%pip install langchain-openai\n",
    "\n",
    "%pip install -qU pymupdf\n",
    "%pip install -qU ragas==0.1.20"
   ]
  },
  {
   "cell_type": "markdown",
   "metadata": {},
   "source": [
    "# Environment Variables"
   ]
  },
  {
   "cell_type": "code",
   "execution_count": null,
   "metadata": {},
   "outputs": [],
   "source": [
    "# Get environment variables\n",
    "\n",
    "from dotenv import load_dotenv\n",
    "\n",
    "\n",
    "# Load environment variables from .env file\n",
    "load_dotenv()"
   ]
  },
  {
   "cell_type": "markdown",
   "metadata": {},
   "source": [
    "# Utilities"
   ]
  },
  {
   "cell_type": "code",
   "execution_count": null,
   "metadata": {},
   "outputs": [],
   "source": [
    "# Load docs from a directory\n",
    "\n",
    "from langchain_community.document_loaders import DirectoryLoader \n",
    "from langchain_community.document_loaders import PyMuPDFLoader\n",
    "\n",
    "def process_directory(path: str, glob: str, loader_cls: str, use_multithreading=True):\n",
    "\t\n",
    "\tloader = DirectoryLoader(path=path, glob=glob, show_progress=True, loader_cls=loader_cls, use_multithreading=use_multithreading)\n",
    "\t\n",
    "\tdocs = loader.load()\n",
    "\t\n",
    "\treturn docs\n",
    "\n",
    "#####\n",
    "\n",
    "def test_process_directory():\n",
    "\tdocs = process_directory('docs/', '**/*.pdf', PyMuPDFLoader, True)\n",
    "\tprint(len(docs))\n",
    "\n",
    "test_process_directory()"
   ]
  },
  {
   "cell_type": "code",
   "execution_count": 4,
   "metadata": {},
   "outputs": [],
   "source": [
    "# Create a text splitter using recursive character text splitter\n",
    "\n",
    "# https://python.langchain.com/v0.1/docs/modules/data_connection/document_transformers/recursive_text_splitter/\n",
    "\n",
    "from langchain.text_splitter import RecursiveCharacterTextSplitter\n",
    "\n",
    "def chunk_docs_recursive(docs: list, chunk_size=500, chunk_overlap=50) -> list:\n",
    "\n",
    "\ttext_splitter = RecursiveCharacterTextSplitter(chunk_size=chunk_size, chunk_overlap=chunk_overlap)\n",
    "\n",
    "\tchunks = text_splitter.split_documents(docs)\n",
    "\n",
    "\treturn chunks\n",
    "\n",
    "#####\n",
    "\n",
    "def test_chunk_docs_recursive(): \n",
    "\tdocs = process_directory(\"docs/\", \"**/*.pdf\", PyMuPDFLoader, True)\n",
    "\tchunks = chunk_docs_recursive(docs=docs)\n",
    "\t\n",
    "\tprint(f\"\\nNumber of chunks = {len(chunks)}\\n\")\n",
    "\tprint(f\"First chunk = {chunks[0].page_content}\")\n",
    "\n",
    "# test_chunk_docs_recursive()"
   ]
  },
  {
   "cell_type": "markdown",
   "metadata": {},
   "source": [
    "# Create Synthetic Testset"
   ]
  },
  {
   "cell_type": "code",
   "execution_count": null,
   "metadata": {},
   "outputs": [],
   "source": [
    "# https://docs.ragas.io/en/stable/getstarted/rag_testset_generation/\n",
    "# I'm using an older version of Ragas because I couldn't the current version to work \n",
    "\n",
    "from langchain_openai import ChatOpenAI, OpenAIEmbeddings\n",
    "\n",
    "from ragas.testset.evolutions import multi_context, reasoning, simple\n",
    "from ragas.testset.generator import RunConfig, TestsetGenerator\n",
    "\n",
    "# Split the documents into chunks\n",
    "docs = process_directory('docs/', '**/*.pdf', PyMuPDFLoader, True)\n",
    "chunks = chunk_docs_recursive(docs=docs, chunk_size=1000, chunk_overlap=200)\n",
    "\n",
    "generator_llm = ChatOpenAI(model=\"gpt-4o-mini\")\n",
    "critic_llm = ChatOpenAI(model=\"gpt-3.5-turbo-16k\")\n",
    "embeddings = OpenAIEmbeddings()\n",
    "\n",
    "# Create the generator \n",
    "generator = TestsetGenerator.from_langchain(generator_llm=generator_llm, critic_llm=critic_llm, embeddings=embeddings)\n",
    "\n",
    "# https://docs.ragas.io/en/v0.1.21/howtos/customisations/run_config.html\n",
    "# Default is 16 but using a smaller number is used to avoid rate limits\n",
    "run_config=RunConfig(max_workers=16)\n",
    "\n",
    "# Set the number of questions\n",
    "test_size=10\n",
    "\n",
    "# Set the distribution \n",
    "distributions = {simple: 0.2, multi_context: 0.4, reasoning: 0.4}\n",
    "\n",
    "# Generate the testset and save to disk \n",
    "testset = generator.generate_with_langchain_docs(documents=docs, test_size=test_size, distributions=distributions, run_config=run_config)\n",
    "\n",
    "# Write the testet to disk\n",
    "testset_name = \"10k_testset.csv\"\n",
    "print(f\"Saving {testset_name}\")\n",
    "testset_df = testset.to_pandas()\n",
    "testset_df.to_csv(f\"{testset_name}\")\n",
    "testset_df"
   ]
  }
 ],
 "metadata": {
  "kernelspec": {
   "display_name": "era4-holiday-ragas",
   "language": "python",
   "name": "python3"
  },
  "language_info": {
   "codemirror_mode": {
    "name": "ipython",
    "version": 3
   },
   "file_extension": ".py",
   "mimetype": "text/x-python",
   "name": "python",
   "nbconvert_exporter": "python",
   "pygments_lexer": "ipython3",
   "version": "3.11.11"
  }
 },
 "nbformat": 4,
 "nbformat_minor": 2
}
