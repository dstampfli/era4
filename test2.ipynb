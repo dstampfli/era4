{
 "cells": [
  {
   "cell_type": "markdown",
   "metadata": {},
   "source": [
    "# Setup"
   ]
  },
  {
   "cell_type": "code",
   "metadata": {},
   "source": [
    "# %pip install -r requirements.txt"
   ],
   "outputs": [],
   "execution_count": null
  },
  {
   "cell_type": "markdown",
   "metadata": {},
   "source": [
    "# Environment Variables"
   ]
  },
  {
   "cell_type": "code",
   "metadata": {
    "ExecuteTime": {
     "end_time": "2025-03-03T15:20:54.129014Z",
     "start_time": "2025-03-03T15:20:54.116083Z"
    }
   },
   "source": [
    "# Get environment variables\n",
    "\n",
    "from dotenv import load_dotenv\n",
    "\n",
    "# Load environment variables from .env file\n",
    "load_dotenv()"
   ],
   "outputs": [
    {
     "data": {
      "text/plain": [
       "True"
      ]
     },
     "execution_count": 1,
     "metadata": {},
     "output_type": "execute_result"
    }
   ],
   "execution_count": 1
  },
  {
   "cell_type": "markdown",
   "metadata": {},
   "source": [
    "# Google Colab Auth"
   ]
  },
  {
   "cell_type": "code",
   "metadata": {
    "ExecuteTime": {
     "end_time": "2025-03-03T15:20:56.071975Z",
     "start_time": "2025-03-03T15:20:56.068900Z"
    }
   },
   "source": [
    "# Check if running in Google Colab\n",
    "\n",
    "import sys\n",
    "\n",
    "# If running in Colab, use the permissions of the currently authenticated user\n",
    "if \"google.colab\" in sys.modules:\n",
    "\tprint('Running in Google Colab')\n",
    "\t\n",
    "\tfrom google.colab import auth\n",
    "\t\n",
    "\tauth.authenticate_user()\n",
    "\n",
    "# If not, set the GOOGLE_APPLICATION_CREDENTIALS to the service account credentials file \n",
    "else:\n",
    "\tprint(\"Running locally\")"
   ],
   "outputs": [
    {
     "name": "stdout",
     "output_type": "stream",
     "text": [
      "Running locally\n"
     ]
    }
   ],
   "execution_count": 2
  },
  {
   "cell_type": "markdown",
   "metadata": {},
   "source": [
    "# Utilities"
   ]
  },
  {
   "cell_type": "code",
   "metadata": {
    "ExecuteTime": {
     "end_time": "2025-03-03T15:21:02.619688Z",
     "start_time": "2025-03-03T15:20:58.327136Z"
    }
   },
   "source": [
    "# Import the utils module\n",
    "\n",
    "from utils import *"
   ],
   "outputs": [],
   "execution_count": 3
  },
  {
   "cell_type": "markdown",
   "metadata": {},
   "source": [
    "# Environment Checks"
   ]
  },
  {
   "cell_type": "code",
   "metadata": {
    "ExecuteTime": {
     "end_time": "2025-03-03T15:21:03.673821Z",
     "start_time": "2025-03-03T15:21:02.624450Z"
    }
   },
   "source": [
    "# Check GCP permissions\n",
    "\n",
    "import os\n",
    "\n",
    "import google.auth\n",
    "from google.cloud import storage\n",
    "\n",
    "PROJECT_ID = os.environ[\"PROJECT_ID\"]\n",
    "print(PROJECT_ID)\n",
    "creds, _ = google.auth.default(quota_project_id=PROJECT_ID)\n",
    "\n",
    "# Now, you can use the Google Cloud client libraries\n",
    "client = storage.Client(credentials=creds)\n",
    "\n",
    "# List all buckets in your project\n",
    "buckets = list(client.list_buckets())\n",
    "print(buckets)"
   ],
   "outputs": [
    {
     "name": "stdout",
     "output_type": "stream",
     "text": [
      "sandbox-446818\n",
      "[<Bucket: 614010252570_us_import_custom>, <Bucket: era4-10k-docs>]\n"
     ]
    }
   ],
   "execution_count": 4
  },
  {
   "cell_type": "code",
   "metadata": {
    "ExecuteTime": {
     "end_time": "2025-03-03T15:21:05.900121Z",
     "start_time": "2025-03-03T15:21:05.418854Z"
    }
   },
   "source": [
    "# Check Google API key\n",
    "\n",
    "import requests\n",
    "\n",
    "GOOGLE_API_KEY = os.environ['GOOGLE_API_KEY']\n",
    "url = f'https://generativelanguage.googleapis.com/v1beta/models/gemini-1.5-flash-latest:generateContent?key={GOOGLE_API_KEY}'\n",
    "  \n",
    "headers = {\n",
    "\t\"Content-Type\": \"application/json\",\n",
    "}\n",
    "  \n",
    "data = {\"contents\":[{\"parts\":[{\"text\":\"What was Uber's annual revenue for 2022?\"}]}]}\n",
    "\n",
    "response = requests.post(url, headers=headers, json=data)\n",
    "print(response.text)"
   ],
   "outputs": [
    {
     "name": "stdout",
     "output_type": "stream",
     "text": [
      "{\n",
      "  \"candidates\": [\n",
      "    {\n",
      "      \"content\": {\n",
      "        \"parts\": [\n",
      "          {\n",
      "            \"text\": \"Uber's annual revenue for 2022 was **$31.9 billion**.\\n\"\n",
      "          }\n",
      "        ],\n",
      "        \"role\": \"model\"\n",
      "      },\n",
      "      \"finishReason\": \"STOP\",\n",
      "      \"avgLogprobs\": -0.0031980978591101511\n",
      "    }\n",
      "  ],\n",
      "  \"usageMetadata\": {\n",
      "    \"promptTokenCount\": 14,\n",
      "    \"candidatesTokenCount\": 21,\n",
      "    \"totalTokenCount\": 35,\n",
      "    \"promptTokensDetails\": [\n",
      "      {\n",
      "        \"modality\": \"TEXT\",\n",
      "        \"tokenCount\": 14\n",
      "      }\n",
      "    ],\n",
      "    \"candidatesTokensDetails\": [\n",
      "      {\n",
      "        \"modality\": \"TEXT\",\n",
      "        \"tokenCount\": 21\n",
      "      }\n",
      "    ]\n",
      "  },\n",
      "  \"modelVersion\": \"gemini-1.5-flash-latest\"\n",
      "}\n",
      "\n"
     ]
    }
   ],
   "execution_count": 5
  },
  {
   "cell_type": "code",
   "metadata": {
    "ExecuteTime": {
     "end_time": "2025-03-03T15:21:09.219169Z",
     "start_time": "2025-03-03T15:21:08.334779Z"
    }
   },
   "source": [
    "# Check Vertex AI Agent Builder data store\n",
    "\n",
    "import json\n",
    "\n",
    "import google.auth\n",
    "from google.auth.transport.requests import Request\n",
    "import requests\n",
    "\n",
    "def query_chunks(query: str, page_size: int, access_token:str) -> str:\n",
    "\t\t\n",
    "\tPROJECT_ID = os.environ['PROJECT_ID']\n",
    "\tLOCATION_ID = os.environ['LOCATION_ID']\n",
    "\tDATA_STORE_ID = os.environ['DATA_STORE_ID']\n",
    "\n",
    "\tif LOCATION_ID == 'us':\n",
    "\t\tapi_endpoint = 'us-discoveryengine.googleapis.com'\n",
    "\telse:\n",
    "\t\tapi_endpoint = 'discoveryengine.googleapis.com'\n",
    "\n",
    "\turl = f\"https://{api_endpoint}/v1alpha/projects/{PROJECT_ID}/locations/{LOCATION_ID}/collections/default_collection/dataStores/{DATA_STORE_ID}/servingConfigs/default_search:search\"\n",
    "\tprint(url)\n",
    "\t\n",
    "\theaders = {\n",
    "\t\t\t\"Authorization\": f\"Bearer {access_token}\",\n",
    "\t\t\t\"Content-Type\": \"application/json\",\n",
    "\t\t\t}\n",
    "\t\n",
    "\tpost_data = {\n",
    "\t\t\t\"servingConfig\": f\"projects/{PROJECT_ID}/locations/{LOCATION_ID}/collections/default_collection/dataStores/{DATA_STORE_ID}/servingConfigs/default_search\",\n",
    "\t\t\t\"pageSize\": page_size,\n",
    "\t\t\t\"query\": query,\n",
    "\t\t\t\"contentSearchSpec\": {\"searchResultMode\": \"CHUNKS\"},\n",
    "\t\t\t}\n",
    "\t\n",
    "\tresponse = requests.post(url, headers=headers, json=post_data)\n",
    "\n",
    "\tif response.status_code != 200:\n",
    "\t\tprint(f\"Error retrieving search results: {response.status_code} - {response.text}\")\n",
    "\n",
    "\treturn response.json()\n",
    "\n",
    "#####\n",
    "\n",
    "def test_query_chunks():\n",
    "\tcreds, _ = google.auth.default()\n",
    "\tcreds.refresh(Request())\n",
    "\taccess_token = creds.token\n",
    "\tprint(access_token)\n",
    "\tresponse = query_chunks(query = \"What is the annual revenue of Uber?\", page_size=3, access_token=access_token)\n",
    "\tprint(json.dumps(response, indent=4))\n",
    "\n",
    "test_query_chunks()"
   ],
   "outputs": [
    {
     "name": "stdout",
     "output_type": "stream",
     "text": [
      "ya29.a0AeXRPp5b3DH21vKpl2cOLn_d4tTUWvEplwxIdO_2AnZWT4qMpsDGNTcbLnsZy6NykNab5wEnrwk1bGgsxXOkZeCqypLdNy4iWfH10fyliOKDGsRexfuvXrcWlbG3vUAFuq5tzootxhKFJx0kz-KiNL308GIUTtTxCM0sP5ZmaCgYKAb8SARESFQHGX2Mip5na85uL6G5c_MKuYgkLEQ0175\n",
      "https://us-discoveryengine.googleapis.com/v1alpha/projects/sandbox-446818/locations/us/collections/default_collection/dataStores/era4-10k-docs_1741011617661/servingConfigs/default_search:search\n",
      "Error retrieving search results: 400 - {\n",
      "  \"error\": {\n",
      "    \"code\": 400,\n",
      "    \"message\": \"`content_search_spec.search_result_mode` must be set to SearchRequest.ContentSearchSpec.SearchResultMode.DOCUMENTS when the engine contains structured data store.\",\n",
      "    \"status\": \"INVALID_ARGUMENT\"\n",
      "  }\n",
      "}\n",
      "\n",
      "{\n",
      "    \"error\": {\n",
      "        \"code\": 400,\n",
      "        \"message\": \"`content_search_spec.search_result_mode` must be set to SearchRequest.ContentSearchSpec.SearchResultMode.DOCUMENTS when the engine contains structured data store.\",\n",
      "        \"status\": \"INVALID_ARGUMENT\"\n",
      "    }\n",
      "}\n"
     ]
    }
   ],
   "execution_count": 6
  },
  {
   "cell_type": "markdown",
   "metadata": {},
   "source": [
    "# Test 2 - Gemini and Vertex AI"
   ]
  },
  {
   "cell_type": "code",
   "metadata": {
    "ExecuteTime": {
     "end_time": "2025-03-03T15:21:14.137993Z",
     "start_time": "2025-03-03T15:21:13.408763Z"
    }
   },
   "source": [
    "# Create chain using Vertex AI Agent Builder datastore\n",
    "\n",
    "retreiver = create_retriever_vertexai()\n",
    "\n",
    "chat_prompt_template = create_chat_prompt_template()\n",
    "\n",
    "chain = create_chain_vertexai(model_name=os.environ[\"GOOGLE_LLM_MODEL_NAME\"], prompt_template=chat_prompt_template, retriever=retreiver)"
   ],
   "outputs": [
    {
     "name": "stderr",
     "output_type": "stream",
     "text": [
      "/opt/anaconda3/envs/era4/lib/python3.12/site-packages/langchain_google_community/vertex_ai_search.py:364: UserWarning: Beta features are configured but beta=False. The following beta features will be ignored:['custom_embedding_ratio']\n",
      "  warnings.warn(\n"
     ]
    }
   ],
   "execution_count": 7
  },
  {
   "cell_type": "code",
   "metadata": {
    "ExecuteTime": {
     "end_time": "2025-03-03T15:21:22.036313Z",
     "start_time": "2025-03-03T15:21:16.996336Z"
    }
   },
   "source": [
    "# Test the chain with a few questions \n",
    "\n",
    "questions = [\n",
    "\t\"What is the annual revenue of Uber?\",\n",
    "\t\"What is the annual revenue of Lyft?\",\n",
    "\t\"How does Uber's revenue compare to Lyft's revenue?\",\n",
    "\t\"Summarize Lyft's risk factors\",\n",
    "\t]\n",
    "\n",
    "for question in questions:\n",
    "\tprint(question)\n",
    "\tresult = chain.invoke({\"question\" : question})\n",
    "\tprint(result)\n",
    "\tprint(result[\"response\"].content)\n",
    "\tprint(\"\\n*****\")"
   ],
   "outputs": [
    {
     "name": "stdout",
     "output_type": "stream",
     "text": [
      "What is the annual revenue of Uber?\n",
      "{'response': AIMessage(content='Please provide me with the 10K reports for Uber. I need the reports to locate and report the annual revenue.', additional_kwargs={}, response_metadata={'prompt_feedback': {'block_reason': 0, 'safety_ratings': []}, 'finish_reason': 'STOP', 'safety_ratings': []}, id='run-87a808cd-f5e0-4676-bdda-dc3d8c115b47-0', usage_metadata={'input_tokens': 548, 'output_tokens': 26, 'total_tokens': 574, 'input_token_details': {'cache_read': 0}}), 'context': []}\n",
      "Please provide me with the 10K reports for Uber. I need the reports to locate and report the annual revenue.\n",
      "\n",
      "*****\n",
      "What is the annual revenue of Lyft?\n",
      "{'response': AIMessage(content=\"I need the 10K reports to answer your question about Lyft's annual revenue. Please provide the relevant 10K reports so I can find the information.\", additional_kwargs={}, response_metadata={'prompt_feedback': {'block_reason': 0, 'safety_ratings': []}, 'finish_reason': 'STOP', 'safety_ratings': []}, id='run-c31591e8-ae68-47b2-b61b-f12ecd29faa6-0', usage_metadata={'input_tokens': 548, 'output_tokens': 36, 'total_tokens': 584, 'input_token_details': {'cache_read': 0}}), 'context': []}\n",
      "I need the 10K reports to answer your question about Lyft's annual revenue. Please provide the relevant 10K reports so I can find the information.\n",
      "\n",
      "*****\n",
      "How does Uber's revenue compare to Lyft's revenue?\n",
      "{'response': AIMessage(content='I need the 10K reports for both Uber and Lyft to answer your question about their revenue comparison. Please provide those documents so I can locate the relevant information and provide a detailed comparison.', additional_kwargs={}, response_metadata={'prompt_feedback': {'block_reason': 0, 'safety_ratings': []}, 'finish_reason': 'STOP', 'safety_ratings': []}, id='run-65960c37-857f-4c70-90b2-d863c28fd317-0', usage_metadata={'input_tokens': 553, 'output_tokens': 40, 'total_tokens': 593, 'input_token_details': {'cache_read': 0}}), 'context': []}\n",
      "I need the 10K reports for both Uber and Lyft to answer your question about their revenue comparison. Please provide those documents so I can locate the relevant information and provide a detailed comparison.\n",
      "\n",
      "*****\n",
      "Summarize Lyft's risk factors\n",
      "{'response': AIMessage(content=\"My apologies, but I do not have access to any 10K reports in the context provided, and therefore cannot summarize Lyft's risk factors.\", additional_kwargs={}, response_metadata={'prompt_feedback': {'block_reason': 0, 'safety_ratings': []}, 'finish_reason': 'STOP', 'safety_ratings': []}, id='run-ae9c73c2-5624-4a32-bf3c-12c0d844f502-0', usage_metadata={'input_tokens': 547, 'output_tokens': 31, 'total_tokens': 578, 'input_token_details': {'cache_read': 0}}), 'context': []}\n",
      "My apologies, but I do not have access to any 10K reports in the context provided, and therefore cannot summarize Lyft's risk factors.\n",
      "\n",
      "*****\n"
     ]
    }
   ],
   "execution_count": 8
  },
  {
   "cell_type": "code",
   "metadata": {},
   "source": [
    "# Evaluate the chain using Ragas\n",
    "ragas_results, ragas_results_df = run_ragas_evaluation(chain, testset_name=\"testsets/unittest_testset-gemini-2.0.csv\",  eval_metrics=[answer_correctness, answer_relevancy, context_precision, context_recall, faithfulness,],use_google=True)\n",
    "    \n",
    "# Write the results to disk\n",
    "ragas_results_df.to_csv(f\"evaluations/10x_test2_testset_evaluation_{get_time_string()}.csv\")\n",
    "\n",
    "# Show the resutls\n",
    "print(ragas_results)"
   ],
   "outputs": [],
   "execution_count": null
  },
  {
   "cell_type": "code",
   "metadata": {},
   "source": [
    "# Build a heatmap showing the Ragas results\n",
    "\n",
    "import seaborn as sns\n",
    "import matplotlib.pyplot as plt\n",
    "from matplotlib.colors import LinearSegmentedColormap\n",
    "\n",
    "heatmap_data = ragas_results_df[\n",
    "\t[\n",
    "\t\t\"answer_correctness\",\n",
    "\t\t\"answer_relevancy\",\n",
    "\t\t\"context_precision\", \n",
    "\t\t\"context_recall\", \n",
    "\t\t\"faithfulness\",]\n",
    "\t]\n",
    "\n",
    "cmap = LinearSegmentedColormap.from_list(\"green_red\", [\"red\", \"green\"])\n",
    "\n",
    "plt.figure(figsize=(10, 8))\n",
    "sns.heatmap(heatmap_data, annot=True, fmt=\".2f\", linewidths=0.5, cmap=cmap)\n",
    "plt.yticks(ticks=range(len(ragas_results_df[\"user_input\"])), labels=ragas_results_df[\"user_input\"].str[:100], rotation=0)\n",
    "plt.show()"
   ],
   "outputs": [],
   "execution_count": null
  }
 ],
 "metadata": {
  "kernelspec": {
   "display_name": "era4",
   "language": "python",
   "name": "python3"
  },
  "language_info": {
   "codemirror_mode": {
    "name": "ipython",
    "version": 3
   },
   "file_extension": ".py",
   "mimetype": "text/x-python",
   "name": "python",
   "nbconvert_exporter": "python",
   "pygments_lexer": "ipython3",
   "version": "3.12.2"
  }
 },
 "nbformat": 4,
 "nbformat_minor": 2
}
