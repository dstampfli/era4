{
 "cells": [
  {
   "cell_type": "markdown",
   "metadata": {},
   "source": [
    "# Setup"
   ]
  },
  {
   "cell_type": "code",
   "execution_count": 1,
   "metadata": {},
   "outputs": [],
   "source": [
    "# %pip install -r requirements.txt"
   ]
  },
  {
   "cell_type": "markdown",
   "metadata": {},
   "source": [
    "# Environment Variables"
   ]
  },
  {
   "cell_type": "code",
   "execution_count": null,
   "metadata": {},
   "outputs": [],
   "source": [
    "# Get environment variables\n",
    "\n",
    "from dotenv import load_dotenv\n",
    "\n",
    "# Load environment variables from .env file\n",
    "load_dotenv()"
   ]
  },
  {
   "cell_type": "markdown",
   "metadata": {},
   "source": [
    "# Google Colab Auth"
   ]
  },
  {
   "cell_type": "code",
   "execution_count": null,
   "metadata": {},
   "outputs": [],
   "source": [
    "import sys\n",
    "\n",
    "# If running in Colab, use the permissions of the currently authenticated user\n",
    "if \"google.colab\" in sys.modules:\n",
    "\tprint('Running in Google Colab')\n",
    "\t\n",
    "\tfrom google.colab import auth\n",
    "\t\n",
    "\tauth.authenticate_user()\n",
    "\n",
    "# If not, set the GOOGLE_APPLICATION_CREDENTIALS to the service account credentials file \n",
    "else:\n",
    "\tprint(\"Running locally\")"
   ]
  },
  {
   "cell_type": "markdown",
   "metadata": {},
   "source": [
    "# Utilities"
   ]
  },
  {
   "cell_type": "code",
   "execution_count": 4,
   "metadata": {},
   "outputs": [],
   "source": [
    "import utils"
   ]
  },
  {
   "cell_type": "markdown",
   "metadata": {},
   "source": [
    "# Environment Checks"
   ]
  },
  {
   "cell_type": "code",
   "execution_count": null,
   "metadata": {},
   "outputs": [],
   "source": [
    "# Check GPC permissions\n",
    "\n",
    "import os\n",
    "\n",
    "import google.auth\n",
    "from google.cloud import storage\n",
    "\n",
    "PROJECT_ID = os.environ[\"PROJECT_ID\"]\n",
    "creds, _ = google.auth.default(quota_project_id=PROJECT_ID)\n",
    "\n",
    "# Now, you can use the Google Cloud client libraries\n",
    "client = storage.Client(credentials=creds)\n",
    "\n",
    "# List all buckets in your project\n",
    "buckets = list(client.list_buckets())\n",
    "print(buckets)"
   ]
  },
  {
   "cell_type": "code",
   "execution_count": null,
   "metadata": {},
   "outputs": [],
   "source": [
    "# Check Google API key\n",
    "\n",
    "import requests\n",
    "\n",
    "GOOGLE_API_KEY = os.environ['GOOGLE_API_KEY']\n",
    "url = f'https://generativelanguage.googleapis.com/v1beta/models/gemini-1.5-flash-latest:generateContent?key={GOOGLE_API_KEY}'\n",
    "  \n",
    "headers = {\n",
    "\t\"Content-Type\": \"application/json\",\n",
    "}\n",
    "  \n",
    "data = {\"contents\":[{\"parts\":[{\"text\":\"What was Uber's annual revenue for 2022?\"}]}]}\n",
    "\n",
    "response = requests.post(url, headers=headers, json=data)\n",
    "print(response.text)"
   ]
  },
  {
   "cell_type": "code",
   "execution_count": null,
   "metadata": {},
   "outputs": [],
   "source": [
    "# Check Vertex AI Agent Builder data store\n",
    "\n",
    "import json\n",
    "\n",
    "import google.auth\n",
    "from google.auth.transport.requests import Request\n",
    "import requests\n",
    "\n",
    "def query_chunks(query: str, \n",
    "\t\t\t\tpage_size: int, \n",
    "\t\t\t\taccess_token:str) -> str:\n",
    "\t\t\n",
    "\tPROJECT_ID = os.environ['PROJECT_ID']\n",
    "\tLOCATION_ID = os.environ['LOCATION_ID']\n",
    "\tDATA_STORE_ID = os.environ['DATA_STORE_ID']\n",
    "\n",
    "\tif LOCATION_ID == 'us':\n",
    "\t\tapi_endpoint = 'us-discoveryengine.googleapis.com'\n",
    "\telse:\n",
    "\t\tapi_endpoint = 'discoveryengine.googleapis.com'\n",
    "\n",
    "\turl = f\"https://{api_endpoint}/v1alpha/projects/{PROJECT_ID}/locations/{LOCATION_ID}/collections/default_collection/dataStores/{DATA_STORE_ID}/servingConfigs/default_search:search\"\n",
    "\tprint(url)\n",
    "\t\n",
    "\theaders = {\n",
    "\t\t\t\"Authorization\": f\"Bearer {access_token}\",\n",
    "\t\t\t\"Content-Type\": \"application/json\",\n",
    "\t}\n",
    "\t\n",
    "\tpost_data = {\n",
    "\t\t\t\"servingConfig\": f\"projects/{PROJECT_ID}/locations/{LOCATION_ID}/collections/default_collection/dataStores/{DATA_STORE_ID}/servingConfigs/default_search\",\n",
    "\t\t\t\"pageSize\": page_size,\n",
    "\t\t\t\"query\": query,\n",
    "\t\t\t\"contentSearchSpec\": {\"searchResultMode\": \"CHUNKS\"},\n",
    "\t}\n",
    "\t\n",
    "\tresponse = requests.post(url, headers=headers, json=post_data)\n",
    "\n",
    "\tif response.status_code != 200:\n",
    "\t\tprint(\n",
    "\t\t\t\tf\"Error retrieving search results: {response.status_code} -\"\n",
    "\t\t\t\tf\" {response.text}\"\n",
    "\t\t)\n",
    "\n",
    "\treturn response.json()\n",
    "\n",
    "#####\n",
    "\n",
    "def test_query_chunks():\n",
    "\tcreds, _ = google.auth.default()\n",
    "\tcreds.refresh(Request())\n",
    "\taccess_token = creds.token\n",
    "\tprint(access_token)\n",
    "\tresponse = query_chunks(query = \"What is the annual revenue of Uber?\", page_size=3, access_token=access_token)\n",
    "\tprint(json.dumps(response, indent=4))\n",
    "\n",
    "test_query_chunks()"
   ]
  },
  {
   "cell_type": "markdown",
   "metadata": {},
   "source": [
    "# Test 2 - Gemini and Vertex AI"
   ]
  },
  {
   "cell_type": "code",
   "execution_count": null,
   "metadata": {},
   "outputs": [],
   "source": [
    "# Build RAG chain using Vertex AI Agent Builder datastore\n",
    "\n",
    "retreiver = utils.create_retriever_vertexai()\n",
    "chat_prompt_template = utils.create_chat_prompt_template()\n",
    "chain = utils.create_chain(model_name='gemini-1.5-flash', \n",
    "                     prompt_template=chat_prompt_template, \n",
    "                     retriever=retreiver)"
   ]
  },
  {
   "cell_type": "code",
   "execution_count": null,
   "metadata": {},
   "outputs": [],
   "source": [
    "# Test the chain with a few questions \n",
    "\n",
    "questions = [\"What is the annual revenue of Uber?\",\n",
    "\"What is the annual revenue of Lyft?\",\n",
    "\"How does Uber's revenue compare to Lyft's revenue?\",]\n",
    "\n",
    "for question in questions:\n",
    "\tprint(question)\n",
    "\tresult = chain.invoke({\"question\" : question})\n",
    "\tprint(result)\n",
    "\tprint(result[\"response\"].content)\n",
    "\tprint(\"\\n*****\")"
   ]
  },
  {
   "cell_type": "code",
   "execution_count": null,
   "metadata": {},
   "outputs": [],
   "source": [
    "# Evaluate the chain using Ragas\n",
    "\n",
    "import time\n",
    "\n",
    "import pandas as pd\n",
    "\n",
    "# Get the questions and groundtruths from the dataframe\n",
    "testset_df = pd.read_csv(\"testsets/10k_testset.csv\")\n",
    "\n",
    "questions = testset_df[\"user_input\"].values.tolist()\n",
    "questions = [str(question) for question in questions]\n",
    "\n",
    "groundtruths = testset_df[\"reference\"].values.tolist()\n",
    "groundtruths = [str(ground_truth) for ground_truth in groundtruths]\n",
    "\n",
    "eval_metrics = [\n",
    "\tanswer_correctness,\n",
    "\tanswer_relevancy,\n",
    "\tcontext_precision,\n",
    "\tcontext_recall,\n",
    "\tfaithfulness\n",
    "]\n",
    "\n",
    "ragas_results, ragas_results_df = run_ragas_evaluation(chain, \n",
    "\t\t\t\t\t\t\t\t\t\t\t\t\t\tquestions, \n",
    "\t\t\t\t\t\t\t\t\t\t\t\t\t\tgroundtruths, \n",
    "\t\t\t\t\t\t\t\t\t\t\t\t\t\teval_metrics)\n",
    "\n",
    "# Write the results to disk\n",
    "timestr = time.strftime(\"%Y%m%d%H%M%S\")\n",
    "ragas_results_df.to_csv(f\"evaluations/10x_test2_testset_evaluation_{timestr}.csv\")\n",
    "\n",
    "# Show the resutls\n",
    "print(ragas_results)"
   ]
  }
 ],
 "metadata": {
  "kernelspec": {
   "display_name": ".venv",
   "language": "python",
   "name": "python3"
  },
  "language_info": {
   "codemirror_mode": {
    "name": "ipython",
    "version": 3
   },
   "file_extension": ".py",
   "mimetype": "text/x-python",
   "name": "python",
   "nbconvert_exporter": "python",
   "pygments_lexer": "ipython3",
   "version": "3.12.6"
  }
 },
 "nbformat": 4,
 "nbformat_minor": 2
}
