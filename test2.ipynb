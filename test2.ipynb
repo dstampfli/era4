{
 "cells": [
  {
   "cell_type": "markdown",
   "metadata": {},
   "source": [
    "# Setup"
   ]
  },
  {
   "cell_type": "code",
   "execution_count": null,
   "metadata": {},
   "outputs": [],
   "source": [
    "# %pip install -r requirements.txt"
   ]
  },
  {
   "cell_type": "markdown",
   "metadata": {},
   "source": [
    "# Environment Variables"
   ]
  },
  {
   "cell_type": "code",
   "execution_count": null,
   "metadata": {},
   "outputs": [],
   "source": [
    "# Get environment variables\n",
    "\n",
    "from dotenv import load_dotenv\n",
    "\n",
    "# Load environment variables from .env file\n",
    "load_dotenv()"
   ]
  },
  {
   "cell_type": "markdown",
   "metadata": {},
   "source": [
    "# Google Colab Auth"
   ]
  },
  {
   "cell_type": "code",
   "execution_count": null,
   "metadata": {},
   "outputs": [],
   "source": [
    "# Check if running in Google Colab\n",
    "\n",
    "import sys\n",
    "\n",
    "# If running in Colab, use the permissions of the currently authenticated user\n",
    "if \"google.colab\" in sys.modules:\n",
    "\tprint('Running in Google Colab')\n",
    "\t\n",
    "\tfrom google.colab import auth\n",
    "\t\n",
    "\tauth.authenticate_user()\n",
    "\n",
    "# If not, set the GOOGLE_APPLICATION_CREDENTIALS to the service account credentials file \n",
    "else:\n",
    "\tprint(\"Running locally\")"
   ]
  },
  {
   "cell_type": "markdown",
   "metadata": {},
   "source": [
    "# Utilities"
   ]
  },
  {
   "cell_type": "code",
   "execution_count": null,
   "metadata": {},
   "outputs": [],
   "source": [
    "# Import the utils module\n",
    "\n",
    "from utils import *"
   ]
  },
  {
   "cell_type": "markdown",
   "metadata": {},
   "source": [
    "# Environment Checks"
   ]
  },
  {
   "cell_type": "code",
   "execution_count": null,
   "metadata": {},
   "outputs": [],
   "source": [
    "# Check GCP permissions\n",
    "\n",
    "import os\n",
    "\n",
    "import google.auth\n",
    "from google.cloud import storage\n",
    "\n",
    "PROJECT_ID = os.environ[\"PROJECT_ID\"]\n",
    "creds, _ = google.auth.default(quota_project_id=PROJECT_ID)\n",
    "\n",
    "# Now, you can use the Google Cloud client libraries\n",
    "client = storage.Client(credentials=creds)\n",
    "\n",
    "# List all buckets in your project\n",
    "buckets = list(client.list_buckets())\n",
    "print(buckets)"
   ]
  },
  {
   "cell_type": "code",
   "execution_count": null,
   "metadata": {},
   "outputs": [],
   "source": [
    "# Check Google API key\n",
    "\n",
    "import requests\n",
    "\n",
    "GOOGLE_API_KEY = os.environ['GOOGLE_API_KEY']\n",
    "url = f'https://generativelanguage.googleapis.com/v1beta/models/gemini-1.5-flash-latest:generateContent?key={GOOGLE_API_KEY}'\n",
    "  \n",
    "headers = {\n",
    "\t\"Content-Type\": \"application/json\",\n",
    "}\n",
    "  \n",
    "data = {\"contents\":[{\"parts\":[{\"text\":\"What was Uber's annual revenue for 2022?\"}]}]}\n",
    "\n",
    "response = requests.post(url, headers=headers, json=data)\n",
    "print(response.text)"
   ]
  },
  {
   "cell_type": "code",
   "execution_count": null,
   "metadata": {},
   "outputs": [],
   "source": [
    "# Check Vertex AI Agent Builder data store\n",
    "\n",
    "import json\n",
    "\n",
    "import google.auth\n",
    "from google.auth.transport.requests import Request\n",
    "import requests\n",
    "\n",
    "def query_chunks(query: str, page_size: int, access_token:str) -> str:\n",
    "\t\t\n",
    "\tPROJECT_ID = os.environ['PROJECT_ID']\n",
    "\tLOCATION_ID = os.environ['LOCATION_ID']\n",
    "\tDATA_STORE_ID = os.environ['DATA_STORE_ID']\n",
    "\n",
    "\tif LOCATION_ID == 'us':\n",
    "\t\tapi_endpoint = 'us-discoveryengine.googleapis.com'\n",
    "\telse:\n",
    "\t\tapi_endpoint = 'discoveryengine.googleapis.com'\n",
    "\n",
    "\turl = f\"https://{api_endpoint}/v1alpha/projects/{PROJECT_ID}/locations/{LOCATION_ID}/collections/default_collection/dataStores/{DATA_STORE_ID}/servingConfigs/default_search:search\"\n",
    "\tprint(url)\n",
    "\t\n",
    "\theaders = {\n",
    "\t\t\t\"Authorization\": f\"Bearer {access_token}\",\n",
    "\t\t\t\"Content-Type\": \"application/json\",\n",
    "\t\t\t}\n",
    "\t\n",
    "\tpost_data = {\n",
    "\t\t\t\"servingConfig\": f\"projects/{PROJECT_ID}/locations/{LOCATION_ID}/collections/default_collection/dataStores/{DATA_STORE_ID}/servingConfigs/default_search\",\n",
    "\t\t\t\"pageSize\": page_size,\n",
    "\t\t\t\"query\": query,\n",
    "\t\t\t\"contentSearchSpec\": {\"searchResultMode\": \"CHUNKS\"},\n",
    "\t\t\t}\n",
    "\t\n",
    "\tresponse = requests.post(url, headers=headers, json=post_data)\n",
    "\n",
    "\tif response.status_code != 200:\n",
    "\t\tprint(f\"Error retrieving search results: {response.status_code} - {response.text}\")\n",
    "\n",
    "\treturn response.json()\n",
    "\n",
    "#####\n",
    "\n",
    "def test_query_chunks():\n",
    "\tcreds, _ = google.auth.default()\n",
    "\tcreds.refresh(Request())\n",
    "\taccess_token = creds.token\n",
    "\tprint(access_token)\n",
    "\tresponse = query_chunks(query = \"What is the annual revenue of Uber?\", page_size=3, access_token=access_token)\n",
    "\tprint(json.dumps(response, indent=4))\n",
    "\n",
    "test_query_chunks()"
   ]
  },
  {
   "cell_type": "markdown",
   "metadata": {},
   "source": [
    "# Test 2 - Gemini and Vertex AI"
   ]
  },
  {
   "cell_type": "code",
   "execution_count": null,
   "metadata": {},
   "outputs": [],
   "source": [
    "# Create chain using Vertex AI Agent Builder datastore\n",
    "\n",
    "retreiver = create_retriever_vertexai()\n",
    "\n",
    "chat_prompt_template = create_chat_prompt_template()\n",
    "\n",
    "chain = create_chain_vertexai(model_name=os.environ[\"GOOGLE_LLM_MODEL_NAME\"], prompt_template=chat_prompt_template, retriever=retreiver)"
   ]
  },
  {
   "cell_type": "code",
   "execution_count": null,
   "metadata": {},
   "outputs": [],
   "source": [
    "# Test the chain with a few questions \n",
    "\n",
    "questions = [\n",
    "\t\"What is the annual revenue of Uber?\",\n",
    "\t\"What is the annual revenue of Lyft?\",\n",
    "\t\"How does Uber's revenue compare to Lyft's revenue?\",\n",
    "\t\"Summarize Lyft's risk factors\",\n",
    "\t]\n",
    "\n",
    "for question in questions:\n",
    "\tprint(question)\n",
    "\tresult = chain.invoke({\"question\" : question})\n",
    "\tprint(result)\n",
    "\tprint(result[\"response\"].content)\n",
    "\tprint(\"\\n*****\")"
   ]
  },
  {
   "cell_type": "code",
   "execution_count": null,
   "metadata": {},
   "outputs": [],
   "source": [
    "# Evaluate the chain using Ragas\n",
    "ragas_results, ragas_results_df = run_ragas_evaluation(chain, testset_name=\"testsets/unittest_testset-gemini-2.0.csv\",  eval_metrics=[answer_correctness, answer_relevancy, context_precision, context_recall, faithfulness,],use_google=True)\n",
    "    \n",
    "# Write the results to disk\n",
    "ragas_results_df.to_csv(f\"evaluations/10x_test2_testset_evaluation_{get_time_string()}.csv\")\n",
    "\n",
    "# Show the resutls\n",
    "print(ragas_results)"
   ]
  },
  {
   "cell_type": "code",
   "execution_count": null,
   "metadata": {},
   "outputs": [],
   "source": [
    "# Build a heatmap showing the Ragas results\n",
    "\n",
    "import seaborn as sns\n",
    "import matplotlib.pyplot as plt\n",
    "from matplotlib.colors import LinearSegmentedColormap\n",
    "\n",
    "heatmap_data = ragas_results_df[\n",
    "\t[\n",
    "\t\t\"answer_correctness\",\n",
    "\t\t\"answer_relevancy\",\n",
    "\t\t\"context_precision\", \n",
    "\t\t\"context_recall\", \n",
    "\t\t\"faithfulness\",]\n",
    "\t]\n",
    "\n",
    "cmap = LinearSegmentedColormap.from_list(\"green_red\", [\"red\", \"green\"])\n",
    "\n",
    "plt.figure(figsize=(10, 8))\n",
    "sns.heatmap(heatmap_data, annot=True, fmt=\".2f\", linewidths=0.5, cmap=cmap)\n",
    "plt.yticks(ticks=range(len(ragas_results_df[\"user_input\"])), labels=ragas_results_df[\"user_input\"].str[:100], rotation=0)\n",
    "plt.show()"
   ]
  }
 ],
 "metadata": {
  "kernelspec": {
   "display_name": "era4",
   "language": "python",
   "name": "python3"
  },
  "language_info": {
   "codemirror_mode": {
    "name": "ipython",
    "version": 3
   },
   "file_extension": ".py",
   "mimetype": "text/x-python",
   "name": "python",
   "nbconvert_exporter": "python",
   "pygments_lexer": "ipython3",
   "version": "3.12.2"
  }
 },
 "nbformat": 4,
 "nbformat_minor": 2
}
