{
 "cells": [
  {
   "metadata": {},
   "cell_type": "markdown",
   "source": "# Setup",
   "id": "72f8eea04bca7944"
  },
  {
   "metadata": {
    "ExecuteTime": {
     "end_time": "2025-02-11T20:30:51.816334Z",
     "start_time": "2025-02-11T20:30:51.814398Z"
    }
   },
   "cell_type": "code",
   "source": "# %pip install -r requirements.txt",
   "id": "bf8f2f70261e5a11",
   "outputs": [],
   "execution_count": 14
  },
  {
   "metadata": {},
   "cell_type": "markdown",
   "source": "# Environment Variables",
   "id": "8c82114f34e68590"
  },
  {
   "metadata": {
    "ExecuteTime": {
     "end_time": "2025-02-11T20:30:51.831522Z",
     "start_time": "2025-02-11T20:30:51.827239Z"
    }
   },
   "cell_type": "code",
   "source": [
    "# Get environment variables\n",
    "\n",
    "from dotenv import load_dotenv\n",
    "\n",
    "# Load environment variables from .env file\n",
    "load_dotenv()"
   ],
   "id": "62036f02577fbf8a",
   "outputs": [
    {
     "data": {
      "text/plain": [
       "True"
      ]
     },
     "execution_count": 15,
     "metadata": {},
     "output_type": "execute_result"
    }
   ],
   "execution_count": 15
  },
  {
   "metadata": {},
   "cell_type": "markdown",
   "source": "# Google Colab Auth",
   "id": "2c49c4ba3825d3ed"
  },
  {
   "metadata": {
    "ExecuteTime": {
     "end_time": "2025-02-11T20:30:51.838830Z",
     "start_time": "2025-02-11T20:30:51.836402Z"
    }
   },
   "cell_type": "code",
   "source": [
    "# Check if running in Google Colab\n",
    "\n",
    "import sys\n",
    "\n",
    "# If running in Colab, use the permissions of the currently authenticated user\n",
    "if \"google.colab\" in sys.modules:\n",
    "\tprint('Running in Google Colab')\n",
    "\n",
    "\tfrom google.colab import auth\n",
    "\n",
    "\tauth.authenticate_user()\n",
    "\n",
    "# If not, set the GOOGLE_APPLICATION_CREDENTIALS to the service account credentials file\n",
    "else:\n",
    "\tprint(\"Running locally\")"
   ],
   "id": "95ebb6c27c15c328",
   "outputs": [
    {
     "name": "stdout",
     "output_type": "stream",
     "text": [
      "Running locally\n"
     ]
    }
   ],
   "execution_count": 16
  },
  {
   "metadata": {},
   "cell_type": "markdown",
   "source": "# Utilities\n",
   "id": "440b872d62fb2887"
  },
  {
   "metadata": {
    "ExecuteTime": {
     "end_time": "2025-02-11T20:30:51.849177Z",
     "start_time": "2025-02-11T20:30:51.846517Z"
    }
   },
   "cell_type": "code",
   "source": [
    "# Import the utils module\n",
    "\n",
    "from utils import *"
   ],
   "id": "63f0c5cf023448a9",
   "outputs": [],
   "execution_count": 17
  },
  {
   "metadata": {},
   "cell_type": "markdown",
   "source": "# RAG Engine",
   "id": "6a581dc2cbde2824"
  },
  {
   "metadata": {
    "ExecuteTime": {
     "end_time": "2025-02-11T20:30:58.810305Z",
     "start_time": "2025-02-11T20:30:51.856160Z"
    }
   },
   "cell_type": "code",
   "source": [
    "import os\n",
    "\n",
    "import vertexai\n",
    "from vertexai.preview import rag\n",
    "from vertexai.preview.generative_models import GenerativeModel, Tool\n",
    "\n",
    "PROJECT_ID = os.environ[\"PROJECT_ID\"]\n",
    "LOCATION = os.environ[\"REGION\"]\n",
    "vertexai.init(project=PROJECT_ID, location=LOCATION)\n",
    "\n",
    "# Currently supports Google first-party embedding models\n",
    "EMBEDDING_MODEL = \"publishers/google/models/text-embedding-004\"\n",
    "embedding_model_config = rag.EmbeddingModelConfig(publisher_model=EMBEDDING_MODEL)\n",
    "\n",
    "rag_corpus = rag.create_corpus(display_name=\"10k-docs\", embedding_model_config=embedding_model_config)\n",
    "rag.list_corpora()\n",
    "\n"
   ],
   "id": "d2eba44b788ebbe3",
   "outputs": [
    {
     "data": {
      "text/plain": [
       "ListRagCorporaPager<rag_corpora {\n",
       "  name: \"projects/era4-447717/locations/us-central1/ragCorpora/4611686018427387904\"\n",
       "  display_name: \"10k-docs\"\n",
       "  create_time {\n",
       "    seconds: 1739305244\n",
       "    nanos: 613044000\n",
       "  }\n",
       "  update_time {\n",
       "    seconds: 1739305244\n",
       "    nanos: 613044000\n",
       "  }\n",
       "  rag_embedding_model_config {\n",
       "    vertex_prediction_endpoint {\n",
       "      endpoint: \"projects/era4-447717/locations/us-central1/publishers/google/models/text-embedding-004\"\n",
       "    }\n",
       "  }\n",
       "  rag_vector_db_config {\n",
       "    rag_managed_db {\n",
       "    }\n",
       "    rag_embedding_model_config {\n",
       "      vertex_prediction_endpoint {\n",
       "        endpoint: \"projects/era4-447717/locations/us-central1/publishers/google/models/text-embedding-004\"\n",
       "      }\n",
       "    }\n",
       "  }\n",
       "  corpus_status {\n",
       "    state: ACTIVE\n",
       "  }\n",
       "  vector_db_config {\n",
       "    rag_managed_db {\n",
       "    }\n",
       "    rag_embedding_model_config {\n",
       "      vertex_prediction_endpoint {\n",
       "        endpoint: \"projects/era4-447717/locations/us-central1/publishers/google/models/text-embedding-004\"\n",
       "      }\n",
       "    }\n",
       "  }\n",
       "}\n",
       "rag_corpora {\n",
       "  name: \"projects/era4-447717/locations/us-central1/ragCorpora/5685794529555251200\"\n",
       "  display_name: \"10k-docs\"\n",
       "  create_time {\n",
       "    seconds: 1739305857\n",
       "    nanos: 184448000\n",
       "  }\n",
       "  update_time {\n",
       "    seconds: 1739305857\n",
       "    nanos: 184448000\n",
       "  }\n",
       "  rag_embedding_model_config {\n",
       "    vertex_prediction_endpoint {\n",
       "      endpoint: \"projects/era4-447717/locations/us-central1/publishers/google/models/text-embedding-004\"\n",
       "    }\n",
       "  }\n",
       "  rag_vector_db_config {\n",
       "    rag_managed_db {\n",
       "    }\n",
       "    rag_embedding_model_config {\n",
       "      vertex_prediction_endpoint {\n",
       "        endpoint: \"projects/era4-447717/locations/us-central1/publishers/google/models/text-embedding-004\"\n",
       "      }\n",
       "    }\n",
       "  }\n",
       "  corpus_status {\n",
       "    state: ACTIVE\n",
       "  }\n",
       "  vector_db_config {\n",
       "    rag_managed_db {\n",
       "    }\n",
       "    rag_embedding_model_config {\n",
       "      vertex_prediction_endpoint {\n",
       "        endpoint: \"projects/era4-447717/locations/us-central1/publishers/google/models/text-embedding-004\"\n",
       "      }\n",
       "    }\n",
       "  }\n",
       "}\n",
       ">"
      ]
     },
     "execution_count": 18,
     "metadata": {},
     "output_type": "execute_result"
    }
   ],
   "execution_count": 18
  },
  {
   "metadata": {
    "ExecuteTime": {
     "end_time": "2025-02-11T20:31:29.596791Z",
     "start_time": "2025-02-11T20:30:58.875480Z"
    }
   },
   "cell_type": "code",
   "source": [
    "rag_file_lyft = rag.upload_file(\n",
    "    corpus_name=rag_corpus.name,\n",
    "    path=\"docs/10k/pdf/lyft.pdf\",\n",
    "    display_name=\"lyft.pdf\",\n",
    "    description=\"Lyft 10K for 2023\",\n",
    ")\n",
    "\n",
    "rag_file_uber = rag.upload_file(\n",
    "    corpus_name=rag_corpus.name,\n",
    "    path=\"docs/10k/pdf/uber.pdf\",\n",
    "    display_name=\"uber.pdf\",\n",
    "    description=\"Uber 10K for 2023\",\n",
    ")\n"
   ],
   "id": "640007a6185e6592",
   "outputs": [],
   "execution_count": 19
  },
  {
   "metadata": {
    "ExecuteTime": {
     "end_time": "2025-02-11T20:31:58.717462Z",
     "start_time": "2025-02-11T20:31:57.088660Z"
    }
   },
   "cell_type": "code",
   "source": [
    "# Direct context retrieval\n",
    "response = rag.retrieval_query(\n",
    "    rag_resources=[\n",
    "        rag.RagResource(\n",
    "            rag_corpus=rag_corpus.name,\n",
    "            # Optional: supply IDs from `rag.list_files()`.\n",
    "            # rag_file_ids=[\"rag-file-1\", \"rag-file-2\", ...],\n",
    "        )\n",
    "    ],\n",
    "    text=\"What was Uber's revenue for 2023?\",\n",
    "    similarity_top_k=10,  # Optional\n",
    "    vector_distance_threshold=0.5,  # Optional\n",
    ")\n",
    "# print(response)\n",
    "\n",
    "# Optional: The retrieved context can be passed to any SDK or model generation API to generate final results.\n",
    "context = \" \".join([context.text for context in response.contexts.contexts]).replace(\"\\n\", \"\")\n",
    "print(context)"
   ],
   "id": "d0d3cca3e4913434",
   "outputs": [
    {
     "name": "stdout",
     "output_type": "stream",
     "text": [
      "41254\n"
     ]
    }
   ],
   "execution_count": 22
  },
  {
   "metadata": {
    "ExecuteTime": {
     "end_time": "2025-02-11T20:32:47.867428Z",
     "start_time": "2025-02-11T20:32:47.858823Z"
    }
   },
   "cell_type": "code",
   "source": [
    "# Create a tool for the RAG Corpus\n",
    "rag_retrieval_tool = Tool.from_retrieval(\n",
    "    retrieval=rag.Retrieval(\n",
    "        source=rag.VertexRagStore(\n",
    "            rag_corpora=[rag_corpus.name],\n",
    "            similarity_top_k=10,\n",
    "            vector_distance_threshold=0.5,\n",
    "        ),\n",
    "    )\n",
    ")"
   ],
   "id": "909e10ff48f14c7b",
   "outputs": [],
   "execution_count": 23
  },
  {
   "metadata": {
    "ExecuteTime": {
     "end_time": "2025-02-11T20:38:12.059886Z",
     "start_time": "2025-02-11T20:38:12.056665Z"
    }
   },
   "cell_type": "code",
   "source": [
    "# Load tool into Gemini model\n",
    "rag_gemini_model = GenerativeModel(os.environ[\"GOOGLE_LLM_MODEL_NAME\"], tools=[rag_retrieval_tool],)"
   ],
   "id": "3a55818044489aa1",
   "outputs": [],
   "execution_count": 30
  },
  {
   "metadata": {
    "ExecuteTime": {
     "end_time": "2025-02-11T20:44:23.575122Z",
     "start_time": "2025-02-11T20:44:09.948996Z"
    }
   },
   "cell_type": "code",
   "source": [
    "from IPython.display import Markdown\n",
    "\n",
    "questions = [\n",
    "\t\"What is the annual revenue of Uber?\",\n",
    "\t\"What is the annual revenue of Lyft?\",\n",
    "\t\"How does Uber's revenue compare to Lyft's revenue?\",\n",
    "\t\"Summarize Lyft's risk factors\",\n",
    "\t]\n",
    "\n",
    "for question in questions:\n",
    "    print(question)\n",
    "    response = rag_gemini_model.generate_content(question)\n",
    "\t#display(Markdown(response.text))\n",
    "    print(response.text)\n"
   ],
   "id": "c7cc042e07c68558",
   "outputs": [
    {
     "name": "stdout",
     "output_type": "stream",
     "text": [
      "What is the annual revenue of Uber?\n",
      "Uber's revenue for 2023 was $37.3 billion, a 17% increase year-over-year.\n",
      "What is the annual revenue of Lyft?\n",
      "Lyft's revenue for the year ended December 31, 2023, was $4,403,589,000. In 2022, the revenue was $4,095,135,000, and in 2021, it was $3,208,323,000.\n",
      "How does Uber's revenue compare to Lyft's revenue?\n",
      "Uber's revenue for 2023 was $37.3 billion, a 17% increase year-over-year. Lyft's revenue for 2023 was $4.4 billion, an 8% increase compared to 2022.\n",
      "\n",
      "Summarize Lyft's risk factors\n",
      "Lyft's business operations are subject to numerous risks, factors, and uncertainties, many of which are outside of their control, that could harm actual results. These risks include:\n",
      "\n",
      "**General Economic Factors:**\n",
      "General macroeconomic conditions, the impact of the COVID-19 pandemic, natural disasters, economic downturns, public health crises, or political crises.\n",
      "\n",
      "**Operational Factors:**\n",
      "Limited operating history, inability to achieve or maintain profitability, competition in the industry, unpredictability of results of operations, failure to attract and retain qualified drivers and riders, insufficient insurance coverage, damage to reputation and brand, illegal or improper activity of users, inaccurate background checks on drivers, changes to pricing practices, the growth and development of the network of Light Vehicles, autonomous vehicle technology, claims from riders, drivers, or third parties, inability to manage growth, security or privacy breaches, reliance on third parties, inability to operate the Express Drive program, a nascent advertising business (Lyft Media), use of artificial intelligence and machine learning, the development of new offerings on the platform, inaccuracies in key metrics and estimates, inability to offer high-quality user support and deal with fraud, inability to effectively manage Wait & Save offerings and pricing methodologies, issues with company culture, reliance on key personnel, changes in the internet and mobile device accessibility, defects, errors or vulnerabilities in technology and system failures, and factors relating to intellectual property rights.\n",
      "\n",
      "**Regulatory and Legal Factors:**\n",
      "Changes in laws and regulations, the classification status of drivers, intellectual property litigation, compliance with laws relating to privacy and data protection, litigation arising in the ordinary course of business, ability to maintain an effective system of disclosure controls and internal control over financial reporting, changes in tax laws, costs related to operating as a public company, and climate change and related regulatory developments.\n",
      "\n",
      "**Financing and Transactional Risks:**\n",
      "Future capital requirements, ability to service current and future debt, ability to make and successfully integrate acquisitions and investments, tax liabilities, ability to use net operating loss carryforwards, and future changes in tax matters.\n",
      "\n",
      "**Governance Risks and Risks Related to Ownership of Capital Stock:**\n",
      "The dual class structure of common stock, volatility of the trading price of Class A common stock, and provisions of Delaware law that may make a merger difficult.\n",
      "\n",
      "Lyft also faces risks related to insurance coverage, including the sufficiency of their insurance or reinsurance and the ability of insurance providers to meet their obligations. They bear financial risk for auto-related incidents and operations-related risks and may not be able to adequately mitigate these risks.\n",
      "\n",
      "Additional risks stem from reliance on third parties for services like background checks, data, and technology. Problems with these partners could affect Lyft's ability to manage its business, onboard drivers, and provide services.\n",
      "\n",
      "Lyft's advertising business, Lyft Media, is subject to risks such as attracting and retaining advertisers, delivering effective advertisements, and changes in advertising spend.\n",
      "\n",
      "The use of AI and machine learning presents risks related to algorithm development, data sets, and a complex regulatory environment.\n",
      "\n",
      "The development of new offerings and enhancements involves risks related to reception by drivers and riders, operational complexity, and dependence on commercial partnerships.\n",
      "\n",
      "Managing the complexities of a multimodal platform and balancing the interests of drivers and riders are also significant risk factors. Illegal or inappropriate activity by users could expose Lyft to liability and harm its business.\n",
      "\n"
     ]
    }
   ],
   "execution_count": 35
  }
 ],
 "metadata": {
  "kernelspec": {
   "display_name": "Python 3",
   "language": "python",
   "name": "python3"
  },
  "language_info": {
   "codemirror_mode": {
    "name": "ipython",
    "version": 2
   },
   "file_extension": ".py",
   "mimetype": "text/x-python",
   "name": "python",
   "nbconvert_exporter": "python",
   "pygments_lexer": "ipython2",
   "version": "2.7.6"
  }
 },
 "nbformat": 4,
 "nbformat_minor": 5
}
